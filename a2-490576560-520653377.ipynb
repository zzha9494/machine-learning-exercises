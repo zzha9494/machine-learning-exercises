{
 "cells": [
  {
   "cell_type": "markdown",
   "metadata": {},
   "source": [
    "# COMP5318 Assignment 2: Image Classification"
   ]
  },
  {
   "cell_type": "markdown",
   "metadata": {},
   "source": [
    "### Group number: 100, SID1: 490576560, SID2: 520653377 "
   ]
  },
  {
   "cell_type": "markdown",
   "metadata": {},
   "source": [
    "## Setup and dependencies\n",
    "All the required libraries/dependencies and the plotting environment are listed and set up here."
   ]
  },
  {
   "cell_type": "code",
   "execution_count": 38,
   "metadata": {},
   "outputs": [],
   "source": [
    "import time\n",
    "\n",
    "import numpy as np\n",
    "import tensorflow as tf\n",
    "from tensorflow import keras\n",
    "import matplotlib as mpl\n",
    "import matplotlib.pyplot as plt\n",
    "import pandas as pd\n",
    "\n",
    "from sklearn.base import clone\n",
    "from sklearn.preprocessing import MinMaxScaler\n",
    "from sklearn.model_selection import train_test_split\n",
    "from sklearn.model_selection import ParameterGrid\n",
    "from sklearn.model_selection import StratifiedKFold\n",
    "from sklearn.model_selection import GridSearchCV\n",
    "from scikeras.wrappers import KerasClassifier\n",
    "\n",
    "from sklearn.neighbors import KNeighborsClassifier\n",
    "from sklearn.naive_bayes import GaussianNB\n",
    "from sklearn.tree import DecisionTreeClassifier\n",
    "from sklearn.ensemble import RandomForestClassifier\n",
    "\n",
    "# Make the notebook's output stable across runs.\n",
    "# Random seed is set to 0 consistently.\n",
    "np.random.seed(0)\n",
    "tf.random.set_seed(0)\n",
    "keras.backend.clear_session()"
   ]
  },
  {
   "cell_type": "markdown",
   "metadata": {},
   "source": [
    "## 1. Data loading, preprocessing, and exploration\n",
    "The documentation for the data loading function can be accessed [here](https://keras.io/api/datasets/fashion_mnist/)."
   ]
  },
  {
   "cell_type": "markdown",
   "id": "b68db559",
   "metadata": {},
   "source": [
    "### 1.1 Load data and declare variables"
   ]
  },
  {
   "cell_type": "code",
   "execution_count": 39,
   "metadata": {},
   "outputs": [],
   "source": [
    "# Load the Fashion-MNIST dataset training and test sets as numpy arrays\n",
    "(X_train_original, y_train_original), (X_test_original, y_test_original) = keras.datasets.fashion_mnist.load_data()\n",
    "assert X_train_original.shape == (60000, 28, 28)\n",
    "assert X_test_original.shape == (10000, 28, 28)\n",
    "assert y_train_original.shape == (60000,)\n",
    "assert y_test_original.shape == (10000,)\n",
    "\n",
    "# An ordered list of the class names\n",
    "class_names = [\"T-shirt/top\",\n",
    "               \"Trouser\",\n",
    "               \"Pullover\",\n",
    "               \"Dress\",\n",
    "               \"Coat\",\n",
    "               \"Sandal\",\n",
    "               \"Shirt\",\n",
    "               \"Sneaker\",\n",
    "               \"Bag\",\n",
    "               \"Ankle boot\"\n",
    "              ]\n",
    "\n",
    "# Declare size of the image\n",
    "IMAGE_SIZE = X_train_original[0].shape"
   ]
  },
  {
   "cell_type": "markdown",
   "id": "eaed0594",
   "metadata": {},
   "source": [
    "### 1.2 Data processing"
   ]
  },
  {
   "cell_type": "code",
   "execution_count": 40,
   "id": "a23dbff7",
   "metadata": {},
   "outputs": [],
   "source": [
    "# Normalise data\n",
    "X_train_full = X_train_original.reshape(X_train_original.shape[0], -1) # Flatten data from 3D to 2D\n",
    "y_train_full = y_train_original.copy()\n",
    "X_test = X_test_original.reshape(X_test_original.shape[0], -1) # Flatten data from 3D to 2D\n",
    "y_test = y_test_original.copy()\n",
    "\n",
    "scaler = MinMaxScaler()\n",
    "scaler.fit(X_train_full)\n",
    "X_train_full = scaler.transform(X_train_full) # apply normalisation to the training set\n",
    "X_test = scaler.transform(X_test) # apply normalisation to the test set\n",
    "\n",
    "X_train_full = X_train_full.reshape(X_train_original.shape[0], *IMAGE_SIZE) # restore the dimention from 2D to 3D\n",
    "X_test = X_test.reshape(X_test_original.shape[0], *IMAGE_SIZE) # restore the dimention from 2D to 3D\n",
    "\n",
    "# Create validation set from the training set\n",
    "X_train, X_valid, y_train, y_valid = train_test_split(X_train_full, y_train_full, train_size=0.9, stratify=y_train_full)"
   ]
  },
  {
   "cell_type": "markdown",
   "id": "95b1fe80",
   "metadata": {},
   "source": [
    "### 1.3 Data exploration"
   ]
  },
  {
   "cell_type": "code",
   "execution_count": 4,
   "id": "ccfef24e",
   "metadata": {},
   "outputs": [
    {
     "name": "stdout",
     "output_type": "stream",
     "text": [
      "The original training set is 60000 images with (28, 28) pixels, without normalization (uint8).\n",
      "The original test set is 10000 images with (28, 28) pixels, without normalization (uint8).\n",
      "\n",
      "The size of training set is 54000 (float64), the size of validation set is 6000 (float64), andthe size of test set is 10000 (float64)\n"
     ]
    }
   ],
   "source": [
    "print(f\"The original training set is {X_train_original.shape[0]} images with {X_train_original[0].shape} pixels, \\\n",
    "without normalization ({X_train_original.dtype}).\")\n",
    "print(f\"The original test set is {X_test_original.shape[0]} images with {X_test_original[0].shape} pixels, \\\n",
    "without normalization ({X_test_original.dtype}).\\n\")\n",
    "\n",
    "print(f\"The size of training set is {X_train.shape[0]} ({X_train.dtype}), \\\n",
    "the size of validation set is {X_valid.shape[0]} ({X_valid.dtype}), and\\\n",
    "the size of test set is {X_test.shape[0]} ({X_test.dtype})\")"
   ]
  },
  {
   "cell_type": "code",
   "execution_count": 5,
   "id": "6c836c5b",
   "metadata": {},
   "outputs": [
    {
     "name": "stdout",
     "output_type": "stream",
     "text": [
      "There are 10 different classes: [0 1 2 3 4 5 6 7 8 9]\n",
      "The label distribution of training set is [5400, 5400, 5400, 5400, 5400, 5400, 5400, 5400, 5400, 5400]\n",
      "The label distribution of validation set is [600, 600, 600, 600, 600, 600, 600, 600, 600, 600]\n",
      "The label distribution of test set is [1000, 1000, 1000, 1000, 1000, 1000, 1000, 1000, 1000, 1000]\n"
     ]
    }
   ],
   "source": [
    "def show_distribution(y):\n",
    "    \"\"\"Simple way to show a label distribution.\"\"\"\n",
    "    result = []\n",
    "    for i in range(len(class_names)):\n",
    "        result.append((y == i).sum())\n",
    "    return result\n",
    "\n",
    "print(f\"There are {len(set(y_train_original))} different classes: {np.unique(y_train_original)}\")\n",
    "print(f\"The label distribution of training set is {show_distribution(y_train)}\")\n",
    "print(f\"The label distribution of validation set is {show_distribution(y_valid)}\")\n",
    "print(f\"The label distribution of test set is {show_distribution(y_test)}\")"
   ]
  },
  {
   "cell_type": "code",
   "execution_count": 6,
   "id": "44772aee",
   "metadata": {},
   "outputs": [
    {
     "name": "stdout",
     "output_type": "stream",
     "text": [
      "Some examples:\n"
     ]
    },
    {
     "data": {
      "image/png": "[encoded data removed]",
      "text/plain": [
       "<Figure size 1440x144 with 10 Axes>"
      ]
     },
     "metadata": {
      "needs_background": "light"
     },
     "output_type": "display_data"
    },
    {
     "data": {
      "image/png": "[encoded data removed]",
      "text/plain": [
       "<Figure size 1440x144 with 10 Axes>"
      ]
     },
     "metadata": {
      "needs_background": "light"
     },
     "output_type": "display_data"
    },
    {
     "data": {
      "image/png": "[encoded data removed]",
      "text/plain": [
       "<Figure size 1440x144 with 10 Axes>"
      ]
     },
     "metadata": {
      "needs_background": "light"
     },
     "output_type": "display_data"
    }
   ],
   "source": [
    "def plot_examples(X, y, title=\"\"):\n",
    "    \"\"\"Plot a grid of images from different classes.\"\"\"\n",
    "    # Size figure depending on the size of the grid\n",
    "    plt.figure(figsize=(20, 2))\n",
    "    plt.suptitle(title, fontsize=16,x=0.5,y=1.2,)\n",
    "\n",
    "    index = []\n",
    "    # search index\n",
    "    for i in range(len(class_names)):\n",
    "        for j in range(len(y)):\n",
    "            if i == y[j]:\n",
    "                index.append(j)\n",
    "                break\n",
    "\n",
    "    # Plot the image at appropriate place in grid\n",
    "    for i in range(len(index)):\n",
    "        plt.subplot(1, len(index), i + 1)\n",
    "        plt.imshow(X[index[i]], cmap=\"binary\")\n",
    "        plt.title(class_names[y[index[i]]])\n",
    "        plt.axis('off')\n",
    "            \n",
    "    plt.show()\n",
    "\n",
    "print(\"Some examples:\")\n",
    "\n",
    "plot_examples(X_train, y_train, \"Examples in training set\")\n",
    "plot_examples(X_valid, y_valid, \"Examples in validation set\")\n",
    "plot_examples(X_test, y_test, \"Examples in test set\")"
   ]
  },
  {
   "cell_type": "markdown",
   "metadata": {},
   "source": [
    "## 2. Algorithm design and setup"
   ]
  },
  {
   "cell_type": "markdown",
   "metadata": {},
   "source": [
    "### 2.1  K-nearest neighbors"
   ]
  },
  {
   "cell_type": "markdown",
   "id": "e4636e21",
   "metadata": {},
   "source": [
    "First, A group of simple algorithms from the first 6 weeks are compared. They are: K-nearest neighbors, Naive Bayes, Decision tree, and Random forest. We simply train the model with default/simple parameters on the full training set, and test their accuracy."
   ]
  },
  {
   "cell_type": "code",
   "execution_count": 7,
   "id": "60f11273",
   "metadata": {},
   "outputs": [],
   "source": [
    "neigh = KNeighborsClassifier(n_neighbors=10) # k shoule be less than sqrt(#training_examples), commercial packages typically use k=10\n",
    "\n",
    "# Training and timer\n",
    "time_stamp = time.time()\n",
    "neigh.fit(X_train_full.reshape(X_train_full.shape[0], -1), y_train_full)\n",
    "neigh_training_time = time.time() - time_stamp"
   ]
  },
  {
   "cell_type": "code",
   "execution_count": 8,
   "id": "ea0ec567",
   "metadata": {},
   "outputs": [],
   "source": [
    "nb = GaussianNB()\n",
    "\n",
    "# Training and timer\n",
    "time_stamp = time.time()\n",
    "nb.fit(X_train_full.reshape(X_train_full.shape[0], -1), y_train_full)\n",
    "nb_training_time = time.time() - time_stamp"
   ]
  },
  {
   "cell_type": "code",
   "execution_count": 9,
   "id": "a297035f",
   "metadata": {},
   "outputs": [],
   "source": [
    "# Running in arround 30s\n",
    "\n",
    "tree = DecisionTreeClassifier(criterion='entropy', random_state=0) # without setting max_depth results in overfitting.\n",
    "\n",
    "# Training and timer\n",
    "time_stamp = time.time()\n",
    "tree.fit(X_train_full.reshape(X_train_full.shape[0], -1), y_train_full)\n",
    "tree_training_time = time.time() - time_stamp"
   ]
  },
  {
   "cell_type": "code",
   "execution_count": 10,
   "id": "f4811836",
   "metadata": {},
   "outputs": [],
   "source": [
    "# Running in arround 90s\n",
    "\n",
    "rnd = RandomForestClassifier(criterion='entropy', random_state=0) # n_estimators=100 by default\n",
    "\n",
    "# Training and timer\n",
    "time_stamp = time.time()\n",
    "rnd.fit(X_train_full.reshape(X_train_full.shape[0], -1), y_train_full)\n",
    "rnd_training_time = time.time() - time_stamp"
   ]
  },
  {
   "cell_type": "code",
   "execution_count": 11,
   "id": "fd9994d4",
   "metadata": {},
   "outputs": [
    {
     "name": "stdout",
     "output_type": "stream",
     "text": [
      "The accuracy of KNN is 0.8519, training time is 0.05 s.\n",
      "The accuracy of NB is 0.5838, training time is 0.63 s.\n",
      "The accuracy of DT is 0.8001, training time is 33.76 s.\n",
      "The accuracy of RF is 0.8760, training time is 86.22 s.\n"
     ]
    }
   ],
   "source": [
    "print(f\"The accuracy of KNN is {neigh.score(X_test.reshape(X_test.shape[0], -1), y_test):.4f}, training time is {neigh_training_time:.2f} s.\")\n",
    "print(f\"The accuracy of NB is {nb.score(X_test.reshape(X_test.shape[0], -1), y_test):.4f}, training time is {nb_training_time:.2f} s.\")\n",
    "print(f\"The accuracy of DT is {tree.score(X_test.reshape(X_test.shape[0], -1), y_test):.4f}, training time is {tree_training_time:.2f} s.\")\n",
    "print(f\"The accuracy of RF is {rnd.score(X_test.reshape(X_test.shape[0], -1), y_test):.4f}, training time is {rnd_training_time:.2f} s.\")"
   ]
  },
  {
   "cell_type": "markdown",
   "id": "0b0cf2aa",
   "metadata": {},
   "source": [
    "Althouth Random Forest performs best, the training time is relatively long. Noticing that KNN is simple but with a content accuracy among them, the training time is  also tiny. Therefore, KNN is chosen."
   ]
  },
  {
   "cell_type": "markdown",
   "metadata": {},
   "source": [
    "### 2.2 Fully connected neural network"
   ]
  },
  {
   "cell_type": "markdown",
   "id": "cb6912a6",
   "metadata": {},
   "source": [
    "First, the numbers of layers need to be settled. Apart from the **input layer** and **output layer**, the numebr of hidden layer can be a variable. According to Cybenko(1998), any function (including discontinuous) can be approximated to arbitrary small error by a network with two hidden layers. To make the model small, we choose **two hidden layers**."
   ]
  },
  {
   "cell_type": "markdown",
   "id": "b0ba5c8d",
   "metadata": {},
   "source": [
    "Number of neurons in the input layer: 784   \n",
    "For numerical attributes, basically 1 neuron per attribute, in this dataset, we have 28 * 28 = 784 atttributes each example. Thus, the number of neurons of input layer should be 784. Simply, we just use **keras.layers.Flatten(input_shape)**"
   ]
  },
  {
   "cell_type": "markdown",
   "id": "fca3925d",
   "metadata": {},
   "source": [
    "Number of neurons in the output layer: 10   \n",
    "1 for each class. Therefore, the number of the output layers should be 10. The **softmax** function ($\\frac{e^{z_{i}}}{\\sum_{j=1}^{K} e^{z_{j}}}$) converts the raw outputs of this layer into a probability distribution over the classes. "
   ]
  },
  {
   "cell_type": "markdown",
   "id": "869c2c8c",
   "metadata": {},
   "source": [
    "Now we choose the hidden layers.   \n",
    "**Sigmoid** is the most widely used transfer function.\n",
    "We simply set most paras by default as well as the basic **SGD** learning algorithm. Since our labels are in index form rather than encoded as one-hot vectors, as we discussed earlier, we utilise the **sparse_categorical_crossentropy** loss. Then we observe the trend of the numbers of neurons with respect to MSE."
   ]
  },
  {
   "cell_type": "code",
   "execution_count": 12,
   "id": "8076c9e7",
   "metadata": {},
   "outputs": [],
   "source": [
    "def test_build_mlp(num1=50, num2=50):\n",
    "    \"\"\"Build the MLP model with the specified number of neurons.\"\"\"\n",
    "    # Define a test MLP model\n",
    "    model = keras.models.Sequential([\n",
    "        keras.layers.Flatten(input_shape=IMAGE_SIZE),\n",
    "        keras.layers.Dense(num1, activation=\"sigmoid\"),\n",
    "        keras.layers.Dense(num2, activation=\"sigmoid\"),\n",
    "        keras.layers.Dense(len(class_names), activation=\"softmax\")\n",
    "    ])\n",
    "\n",
    "    opt = keras.optimizers.SGD() # default learning_rate=0.01\n",
    "    model.compile(loss='sparse_categorical_crossentropy',\n",
    "                optimizer=opt,\n",
    "                metrics=['accuracy'])\n",
    "\n",
    "    # model.summary()\n",
    "    return model\n",
    "\n",
    "def test_train_mlp(num1, num2, max_epochs=50, criterion=0.02):\n",
    "    \"\"\"Training the model.\n",
    "    max_epochs: the maximum number of epochs to terminate.\n",
    "    criterion: stop when the difference between the loss of the last 5 epoch is less than.\"\"\"\n",
    "    # Train the classifier.\n",
    "    mlp = test_build_mlp(num1, num2)\n",
    "    loss_list = []\n",
    "    for i in range(max_epochs):\n",
    "        history = mlp.fit(X_train, y_train, validation_data=(X_valid, y_valid), epochs=1)\n",
    "        loss_list.append(history.history[\"loss\"][0])\n",
    "\n",
    "        # Stop condition\n",
    "        if len(loss_list) > 5 and loss_list[-6] - loss_list[-1] < criterion:\n",
    "            print(len(loss_list))\n",
    "            break\n",
    "    \n",
    "    return loss_list[-1], len(loss_list)"
   ]
  },
  {
   "cell_type": "code",
   "execution_count": 13,
   "id": "c6466b1c",
   "metadata": {},
   "outputs": [
    {
     "name": "stdout",
     "output_type": "stream",
     "text": [
      "1688/1688 [==============================] - 3s 1ms/step - loss: 2.0422 - accuracy: 0.4546 - val_loss: 1.6993 - val_accuracy: 0.5588\n",
      "1688/1688 [==============================] - 2s 1ms/step - loss: 1.4348 - accuracy: 0.5883 - val_loss: 1.2348 - val_accuracy: 0.6210\n",
      "1688/1688 [==============================] - 2s 1ms/step - loss: 1.1158 - accuracy: 0.6460 - val_loss: 1.0174 - val_accuracy: 0.6655\n",
      "1688/1688 [==============================] - 2s 1ms/step - loss: 0.9459 - accuracy: 0.6898 - val_loss: 0.8871 - val_accuracy: 0.7042\n",
      "1688/1688 [==============================] - 2s 1ms/step - loss: 0.8361 - accuracy: 0.7175 - val_loss: 0.7981 - val_accuracy: 0.7200\n",
      "1688/1688 [==============================] - 2s 1ms/step - loss: 0.7595 - accuracy: 0.7362 - val_loss: 0.7348 - val_accuracy: 0.7378\n",
      "1688/1688 [==============================] - 2s 1ms/step - loss: 0.7045 - accuracy: 0.7475 - val_loss: 0.6887 - val_accuracy: 0.7480\n",
      "1688/1688 [==============================] - 2s 1ms/step - loss: 0.6641 - accuracy: 0.7573 - val_loss: 0.6541 - val_accuracy: 0.7577\n",
      "1688/1688 [==============================] - 2s 1ms/step - loss: 0.6333 - accuracy: 0.7651 - val_loss: 0.6269 - val_accuracy: 0.7658\n",
      "1688/1688 [==============================] - 2s 1ms/step - loss: 0.6086 - accuracy: 0.7727 - val_loss: 0.6046 - val_accuracy: 0.7732\n",
      "1688/1688 [==============================] - 2s 1ms/step - loss: 0.5881 - accuracy: 0.7807 - val_loss: 0.5857 - val_accuracy: 0.7808\n",
      "1688/1688 [==============================] - 2s 1ms/step - loss: 0.5705 - accuracy: 0.7880 - val_loss: 0.5693 - val_accuracy: 0.7893\n",
      "1688/1688 [==============================] - 2s 1ms/step - loss: 0.5551 - accuracy: 0.7962 - val_loss: 0.5550 - val_accuracy: 0.7952\n",
      "1688/1688 [==============================] - 2s 1ms/step - loss: 0.5413 - accuracy: 0.8037 - val_loss: 0.5422 - val_accuracy: 0.8003\n",
      "1688/1688 [==============================] - 2s 1ms/step - loss: 0.5290 - accuracy: 0.8104 - val_loss: 0.5306 - val_accuracy: 0.8060\n",
      "1688/1688 [==============================] - 2s 1ms/step - loss: 0.5177 - accuracy: 0.8155 - val_loss: 0.5201 - val_accuracy: 0.8092\n",
      "1688/1688 [==============================] - 2s 1ms/step - loss: 0.5075 - accuracy: 0.8201 - val_loss: 0.5105 - val_accuracy: 0.8128\n",
      "1688/1688 [==============================] - 2s 1ms/step - loss: 0.4981 - accuracy: 0.8243 - val_loss: 0.5016 - val_accuracy: 0.8170\n",
      "1688/1688 [==============================] - 2s 1ms/step - loss: 0.4895 - accuracy: 0.8275 - val_loss: 0.4934 - val_accuracy: 0.8200\n",
      "1688/1688 [==============================] - 2s 1ms/step - loss: 0.4816 - accuracy: 0.8304 - val_loss: 0.4859 - val_accuracy: 0.8200\n",
      "1688/1688 [==============================] - 2s 1ms/step - loss: 0.4744 - accuracy: 0.8323 - val_loss: 0.4790 - val_accuracy: 0.8232\n",
      "1688/1688 [==============================] - 2s 1ms/step - loss: 0.4678 - accuracy: 0.8348 - val_loss: 0.4726 - val_accuracy: 0.8263\n",
      "1688/1688 [==============================] - 2s 1ms/step - loss: 0.4617 - accuracy: 0.8369 - val_loss: 0.4668 - val_accuracy: 0.8300\n",
      "1688/1688 [==============================] - 3s 1ms/step - loss: 0.4562 - accuracy: 0.8390 - val_loss: 0.4613 - val_accuracy: 0.8313\n",
      "1688/1688 [==============================] - 2s 1ms/step - loss: 0.4510 - accuracy: 0.8408 - val_loss: 0.4563 - val_accuracy: 0.8328\n",
      "1688/1688 [==============================] - 2s 1ms/step - loss: 0.4462 - accuracy: 0.8422 - val_loss: 0.4516 - val_accuracy: 0.8338\n",
      "1688/1688 [==============================] - 2s 1ms/step - loss: 0.4417 - accuracy: 0.8438 - val_loss: 0.4472 - val_accuracy: 0.8353\n",
      "1688/1688 [==============================] - 3s 1ms/step - loss: 0.4375 - accuracy: 0.8452 - val_loss: 0.4431 - val_accuracy: 0.8377\n",
      "1688/1688 [==============================] - 2s 1ms/step - loss: 0.4335 - accuracy: 0.8467 - val_loss: 0.4392 - val_accuracy: 0.8407\n",
      "1688/1688 [==============================] - 2s 1ms/step - loss: 0.4297 - accuracy: 0.8481 - val_loss: 0.4356 - val_accuracy: 0.8435\n",
      "1688/1688 [==============================] - 2s 1ms/step - loss: 0.4262 - accuracy: 0.8492 - val_loss: 0.4321 - val_accuracy: 0.8458\n",
      "31\n",
      "1688/1688 [==============================] - 3s 2ms/step - loss: 2.0572 - accuracy: 0.4670 - val_loss: 1.6979 - val_accuracy: 0.5688\n",
      "1688/1688 [==============================] - 3s 2ms/step - loss: 1.3838 - accuracy: 0.6219 - val_loss: 1.1572 - val_accuracy: 0.6440\n",
      "1688/1688 [==============================] - 3s 2ms/step - loss: 1.0360 - accuracy: 0.6763 - val_loss: 0.9410 - val_accuracy: 0.6885\n",
      "1688/1688 [==============================] - 3s 2ms/step - loss: 0.8732 - accuracy: 0.7143 - val_loss: 0.8224 - val_accuracy: 0.7222\n",
      "1688/1688 [==============================] - 3s 2ms/step - loss: 0.7751 - accuracy: 0.7355 - val_loss: 0.7455 - val_accuracy: 0.7368\n",
      "1688/1688 [==============================] - 3s 2ms/step - loss: 0.7100 - accuracy: 0.7500 - val_loss: 0.6931 - val_accuracy: 0.7498\n",
      "1688/1688 [==============================] - 3s 2ms/step - loss: 0.6650 - accuracy: 0.7609 - val_loss: 0.6555 - val_accuracy: 0.7607\n",
      "1688/1688 [==============================] - 3s 2ms/step - loss: 0.6318 - accuracy: 0.7714 - val_loss: 0.6264 - val_accuracy: 0.7702\n",
      "1688/1688 [==============================] - 3s 2ms/step - loss: 0.6055 - accuracy: 0.7808 - val_loss: 0.6024 - val_accuracy: 0.7792\n",
      "1688/1688 [==============================] - 3s 2ms/step - loss: 0.5836 - accuracy: 0.7892 - val_loss: 0.5819 - val_accuracy: 0.7875\n",
      "1688/1688 [==============================] - 3s 2ms/step - loss: 0.5648 - accuracy: 0.7963 - val_loss: 0.5642 - val_accuracy: 0.7942\n",
      "1688/1688 [==============================] - 3s 2ms/step - loss: 0.5485 - accuracy: 0.8038 - val_loss: 0.5487 - val_accuracy: 0.8017\n",
      "1688/1688 [==============================] - 3s 2ms/step - loss: 0.5344 - accuracy: 0.8099 - val_loss: 0.5352 - val_accuracy: 0.8062\n",
      "1688/1688 [==============================] - 3s 2ms/step - loss: 0.5222 - accuracy: 0.8148 - val_loss: 0.5235 - val_accuracy: 0.8110\n",
      "1688/1688 [==============================] - 3s 2ms/step - loss: 0.5115 - accuracy: 0.8190 - val_loss: 0.5133 - val_accuracy: 0.8160\n",
      "1688/1688 [==============================] - 3s 2ms/step - loss: 0.5023 - accuracy: 0.8223 - val_loss: 0.5044 - val_accuracy: 0.8198\n",
      "1688/1688 [==============================] - 3s 2ms/step - loss: 0.4941 - accuracy: 0.8251 - val_loss: 0.4964 - val_accuracy: 0.8225\n",
      "1688/1688 [==============================] - 3s 2ms/step - loss: 0.4868 - accuracy: 0.8279 - val_loss: 0.4892 - val_accuracy: 0.8253\n",
      "1688/1688 [==============================] - 3s 2ms/step - loss: 0.4802 - accuracy: 0.8301 - val_loss: 0.4826 - val_accuracy: 0.8268\n",
      "1688/1688 [==============================] - 3s 2ms/step - loss: 0.4742 - accuracy: 0.8318 - val_loss: 0.4766 - val_accuracy: 0.8302\n",
      "1688/1688 [==============================] - 3s 2ms/step - loss: 0.4686 - accuracy: 0.8341 - val_loss: 0.4711 - val_accuracy: 0.8318\n",
      "1688/1688 [==============================] - 3s 2ms/step - loss: 0.4634 - accuracy: 0.8361 - val_loss: 0.4659 - val_accuracy: 0.8340\n",
      "1688/1688 [==============================] - 3s 2ms/step - loss: 0.4586 - accuracy: 0.8377 - val_loss: 0.4610 - val_accuracy: 0.8350\n",
      "1688/1688 [==============================] - 3s 2ms/step - loss: 0.4541 - accuracy: 0.8396 - val_loss: 0.4565 - val_accuracy: 0.8380\n",
      "1688/1688 [==============================] - 3s 2ms/step - loss: 0.4498 - accuracy: 0.8413 - val_loss: 0.4522 - val_accuracy: 0.8397\n",
      "1688/1688 [==============================] - 3s 2ms/step - loss: 0.4457 - accuracy: 0.8428 - val_loss: 0.4482 - val_accuracy: 0.8403\n",
      "1688/1688 [==============================] - 3s 2ms/step - loss: 0.4419 - accuracy: 0.8443 - val_loss: 0.4443 - val_accuracy: 0.8418\n",
      "1688/1688 [==============================] - 3s 2ms/step - loss: 0.4382 - accuracy: 0.8455 - val_loss: 0.4407 - val_accuracy: 0.8433\n",
      "1688/1688 [==============================] - 3s 2ms/step - loss: 0.4347 - accuracy: 0.8465 - val_loss: 0.4373 - val_accuracy: 0.8442\n",
      "29\n",
      "1688/1688 [==============================] - 4s 2ms/step - loss: 1.9763 - accuracy: 0.4481 - val_loss: 1.5685 - val_accuracy: 0.5822\n",
      "1688/1688 [==============================] - 3s 2ms/step - loss: 1.3112 - accuracy: 0.6489 - val_loss: 1.1189 - val_accuracy: 0.6873\n",
      "1688/1688 [==============================] - 3s 2ms/step - loss: 0.9997 - accuracy: 0.7076 - val_loss: 0.9028 - val_accuracy: 0.7203\n",
      "1688/1688 [==============================] - 3s 2ms/step - loss: 0.8339 - accuracy: 0.7311 - val_loss: 0.7834 - val_accuracy: 0.7355\n",
      "1688/1688 [==============================] - 3s 2ms/step - loss: 0.7415 - accuracy: 0.7432 - val_loss: 0.7160 - val_accuracy: 0.7460\n",
      "1688/1688 [==============================] - 3s 2ms/step - loss: 0.6872 - accuracy: 0.7532 - val_loss: 0.6735 - val_accuracy: 0.7558\n",
      "1688/1688 [==============================] - 3s 2ms/step - loss: 0.6507 - accuracy: 0.7640 - val_loss: 0.6427 - val_accuracy: 0.7650\n",
      "1688/1688 [==============================] - 3s 2ms/step - loss: 0.6228 - accuracy: 0.7734 - val_loss: 0.6177 - val_accuracy: 0.7758\n",
      "1688/1688 [==============================] - 3s 2ms/step - loss: 0.5997 - accuracy: 0.7824 - val_loss: 0.5964 - val_accuracy: 0.7850\n",
      "1688/1688 [==============================] - 4s 2ms/step - loss: 0.5797 - accuracy: 0.7909 - val_loss: 0.5775 - val_accuracy: 0.7923\n",
      "1688/1688 [==============================] - 6s 3ms/step - loss: 0.5620 - accuracy: 0.7987 - val_loss: 0.5608 - val_accuracy: 0.7983\n",
      "1688/1688 [==============================] - 6s 3ms/step - loss: 0.5464 - accuracy: 0.8052 - val_loss: 0.5460 - val_accuracy: 0.8050\n",
      "1688/1688 [==============================] - 5s 3ms/step - loss: 0.5326 - accuracy: 0.8112 - val_loss: 0.5328 - val_accuracy: 0.8085\n",
      "1688/1688 [==============================] - 5s 3ms/step - loss: 0.5203 - accuracy: 0.8161 - val_loss: 0.5210 - val_accuracy: 0.8132\n",
      "1688/1688 [==============================] - 5s 3ms/step - loss: 0.5094 - accuracy: 0.8198 - val_loss: 0.5105 - val_accuracy: 0.8160\n",
      "1688/1688 [==============================] - 5s 3ms/step - loss: 0.4997 - accuracy: 0.8231 - val_loss: 0.5012 - val_accuracy: 0.8200\n",
      "1688/1688 [==============================] - 5s 3ms/step - loss: 0.4911 - accuracy: 0.8263 - val_loss: 0.4928 - val_accuracy: 0.8215\n",
      "1688/1688 [==============================] - 5s 3ms/step - loss: 0.4833 - accuracy: 0.8288 - val_loss: 0.4852 - val_accuracy: 0.8228\n",
      "1688/1688 [==============================] - 5s 3ms/step - loss: 0.4763 - accuracy: 0.8314 - val_loss: 0.4784 - val_accuracy: 0.8255\n",
      "1688/1688 [==============================] - 5s 3ms/step - loss: 0.4700 - accuracy: 0.8341 - val_loss: 0.4722 - val_accuracy: 0.8300\n",
      "1688/1688 [==============================] - 5s 3ms/step - loss: 0.4642 - accuracy: 0.8364 - val_loss: 0.4665 - val_accuracy: 0.8312\n",
      "1688/1688 [==============================] - 5s 3ms/step - loss: 0.4589 - accuracy: 0.8384 - val_loss: 0.4612 - val_accuracy: 0.8328\n",
      "1688/1688 [==============================] - 5s 3ms/step - loss: 0.4539 - accuracy: 0.8399 - val_loss: 0.4564 - val_accuracy: 0.8345\n",
      "1688/1688 [==============================] - 5s 3ms/step - loss: 0.4493 - accuracy: 0.8414 - val_loss: 0.4519 - val_accuracy: 0.8365\n",
      "1688/1688 [==============================] - 5s 3ms/step - loss: 0.4451 - accuracy: 0.8427 - val_loss: 0.4476 - val_accuracy: 0.8375\n",
      "1688/1688 [==============================] - 6s 4ms/step - loss: 0.4410 - accuracy: 0.8441 - val_loss: 0.4437 - val_accuracy: 0.8380\n",
      "1688/1688 [==============================] - 5s 3ms/step - loss: 0.4372 - accuracy: 0.8454 - val_loss: 0.4400 - val_accuracy: 0.8403\n",
      "1688/1688 [==============================] - 5s 3ms/step - loss: 0.4337 - accuracy: 0.8466 - val_loss: 0.4365 - val_accuracy: 0.8418\n",
      "1688/1688 [==============================] - 6s 3ms/step - loss: 0.4303 - accuracy: 0.8479 - val_loss: 0.4332 - val_accuracy: 0.8428\n",
      "29\n",
      "1688/1688 [==============================] - 7s 4ms/step - loss: 1.9256 - accuracy: 0.4732 - val_loss: 1.4955 - val_accuracy: 0.6013\n",
      "1688/1688 [==============================] - 7s 4ms/step - loss: 1.2600 - accuracy: 0.6469 - val_loss: 1.0883 - val_accuracy: 0.6747\n",
      "1688/1688 [==============================] - 7s 4ms/step - loss: 0.9818 - accuracy: 0.6990 - val_loss: 0.8980 - val_accuracy: 0.7140\n",
      "1688/1688 [==============================] - 7s 4ms/step - loss: 0.8334 - accuracy: 0.7278 - val_loss: 0.7886 - val_accuracy: 0.7292\n",
      "1688/1688 [==============================] - 7s 4ms/step - loss: 0.7457 - accuracy: 0.7424 - val_loss: 0.7222 - val_accuracy: 0.7460\n",
      "1688/1688 [==============================] - 7s 4ms/step - loss: 0.6911 - accuracy: 0.7542 - val_loss: 0.6786 - val_accuracy: 0.7557\n",
      "1688/1688 [==============================] - 7s 4ms/step - loss: 0.6537 - accuracy: 0.7639 - val_loss: 0.6468 - val_accuracy: 0.7643\n",
      "1688/1688 [==============================] - 7s 4ms/step - loss: 0.6255 - accuracy: 0.7727 - val_loss: 0.6216 - val_accuracy: 0.7715\n",
      "1688/1688 [==============================] - 7s 4ms/step - loss: 0.6028 - accuracy: 0.7815 - val_loss: 0.6005 - val_accuracy: 0.7797\n",
      "1688/1688 [==============================] - 7s 4ms/step - loss: 0.5835 - accuracy: 0.7894 - val_loss: 0.5823 - val_accuracy: 0.7872\n",
      "1688/1688 [==============================] - 7s 4ms/step - loss: 0.5669 - accuracy: 0.7966 - val_loss: 0.5665 - val_accuracy: 0.7955\n",
      "1688/1688 [==============================] - 7s 4ms/step - loss: 0.5524 - accuracy: 0.8029 - val_loss: 0.5526 - val_accuracy: 0.8013\n",
      "1688/1688 [==============================] - 7s 4ms/step - loss: 0.5396 - accuracy: 0.8075 - val_loss: 0.5402 - val_accuracy: 0.8050\n",
      "1688/1688 [==============================] - 7s 4ms/step - loss: 0.5281 - accuracy: 0.8121 - val_loss: 0.5292 - val_accuracy: 0.8085\n",
      "1688/1688 [==============================] - 7s 4ms/step - loss: 0.5179 - accuracy: 0.8160 - val_loss: 0.5194 - val_accuracy: 0.8130\n",
      "1688/1688 [==============================] - 7s 4ms/step - loss: 0.5087 - accuracy: 0.8195 - val_loss: 0.5105 - val_accuracy: 0.8167\n",
      "1688/1688 [==============================] - 7s 4ms/step - loss: 0.5004 - accuracy: 0.8224 - val_loss: 0.5025 - val_accuracy: 0.8183\n",
      "1688/1688 [==============================] - 7s 4ms/step - loss: 0.4928 - accuracy: 0.8253 - val_loss: 0.4952 - val_accuracy: 0.8205\n",
      "1688/1688 [==============================] - 7s 4ms/step - loss: 0.4860 - accuracy: 0.8280 - val_loss: 0.4886 - val_accuracy: 0.8228\n",
      "1688/1688 [==============================] - 6s 4ms/step - loss: 0.4797 - accuracy: 0.8303 - val_loss: 0.4825 - val_accuracy: 0.8240\n",
      "1688/1688 [==============================] - 7s 4ms/step - loss: 0.4740 - accuracy: 0.8325 - val_loss: 0.4768 - val_accuracy: 0.8277\n",
      "1688/1688 [==============================] - 7s 4ms/step - loss: 0.4686 - accuracy: 0.8346 - val_loss: 0.4716 - val_accuracy: 0.8290\n",
      "1688/1688 [==============================] - 7s 4ms/step - loss: 0.4637 - accuracy: 0.8365 - val_loss: 0.4667 - val_accuracy: 0.8307\n",
      "1688/1688 [==============================] - 7s 4ms/step - loss: 0.4590 - accuracy: 0.8381 - val_loss: 0.4621 - val_accuracy: 0.8325\n",
      "1688/1688 [==============================] - 7s 4ms/step - loss: 0.4547 - accuracy: 0.8401 - val_loss: 0.4578 - val_accuracy: 0.8350\n",
      "1688/1688 [==============================] - 7s 4ms/step - loss: 0.4506 - accuracy: 0.8414 - val_loss: 0.4537 - val_accuracy: 0.8363\n",
      "1688/1688 [==============================] - 7s 4ms/step - loss: 0.4467 - accuracy: 0.8424 - val_loss: 0.4499 - val_accuracy: 0.8368\n",
      "1688/1688 [==============================] - 7s 4ms/step - loss: 0.4430 - accuracy: 0.8434 - val_loss: 0.4463 - val_accuracy: 0.8375\n",
      "1688/1688 [==============================] - 7s 4ms/step - loss: 0.4396 - accuracy: 0.8445 - val_loss: 0.4429 - val_accuracy: 0.8393\n",
      "29\n",
      "1688/1688 [==============================] - 7s 4ms/step - loss: 1.9613 - accuracy: 0.4830 - val_loss: 1.5186 - val_accuracy: 0.6042\n",
      "1688/1688 [==============================] - 7s 4ms/step - loss: 1.2691 - accuracy: 0.6434 - val_loss: 1.0925 - val_accuracy: 0.6658\n",
      "1688/1688 [==============================] - 7s 4ms/step - loss: 0.9894 - accuracy: 0.7000 - val_loss: 0.9025 - val_accuracy: 0.7157\n",
      "1688/1688 [==============================] - 7s 4ms/step - loss: 0.8356 - accuracy: 0.7308 - val_loss: 0.7842 - val_accuracy: 0.7358\n",
      "1688/1688 [==============================] - 7s 4ms/step - loss: 0.7395 - accuracy: 0.7468 - val_loss: 0.7119 - val_accuracy: 0.7473\n",
      "1688/1688 [==============================] - 7s 4ms/step - loss: 0.6808 - accuracy: 0.7568 - val_loss: 0.6661 - val_accuracy: 0.7583\n",
      "1688/1688 [==============================] - 7s 4ms/step - loss: 0.6420 - accuracy: 0.7679 - val_loss: 0.6331 - val_accuracy: 0.7708\n",
      "1688/1688 [==============================] - 7s 4ms/step - loss: 0.6129 - accuracy: 0.7787 - val_loss: 0.6068 - val_accuracy: 0.7798\n",
      "1688/1688 [==============================] - 7s 4ms/step - loss: 0.5892 - accuracy: 0.7879 - val_loss: 0.5845 - val_accuracy: 0.7892\n",
      "1688/1688 [==============================] - 7s 4ms/step - loss: 0.5690 - accuracy: 0.7972 - val_loss: 0.5653 - val_accuracy: 0.7953\n",
      "1688/1688 [==============================] - 7s 4ms/step - loss: 0.5516 - accuracy: 0.8044 - val_loss: 0.5487 - val_accuracy: 0.8037\n",
      "1688/1688 [==============================] - 7s 4ms/step - loss: 0.5365 - accuracy: 0.8099 - val_loss: 0.5343 - val_accuracy: 0.8095\n",
      "1688/1688 [==============================] - 8s 5ms/step - loss: 0.5236 - accuracy: 0.8145 - val_loss: 0.5219 - val_accuracy: 0.8145\n",
      "1688/1688 [==============================] - 7s 4ms/step - loss: 0.5124 - accuracy: 0.8183 - val_loss: 0.5111 - val_accuracy: 0.8183\n",
      "1688/1688 [==============================] - 8s 5ms/step - loss: 0.5026 - accuracy: 0.8221 - val_loss: 0.5017 - val_accuracy: 0.8205\n",
      "1688/1688 [==============================] - 7s 4ms/step - loss: 0.4941 - accuracy: 0.8250 - val_loss: 0.4933 - val_accuracy: 0.8242\n",
      "1688/1688 [==============================] - 7s 4ms/step - loss: 0.4866 - accuracy: 0.8276 - val_loss: 0.4859 - val_accuracy: 0.8262\n",
      "1688/1688 [==============================] - 7s 4ms/step - loss: 0.4799 - accuracy: 0.8303 - val_loss: 0.4792 - val_accuracy: 0.8285\n",
      "1688/1688 [==============================] - 7s 4ms/step - loss: 0.4739 - accuracy: 0.8318 - val_loss: 0.4732 - val_accuracy: 0.8295\n",
      "1688/1688 [==============================] - 7s 4ms/step - loss: 0.4684 - accuracy: 0.8340 - val_loss: 0.4677 - val_accuracy: 0.8320\n",
      "1688/1688 [==============================] - 7s 4ms/step - loss: 0.4633 - accuracy: 0.8364 - val_loss: 0.4626 - val_accuracy: 0.8315\n",
      "1688/1688 [==============================] - 7s 4ms/step - loss: 0.4587 - accuracy: 0.8379 - val_loss: 0.4579 - val_accuracy: 0.8335\n",
      "1688/1688 [==============================] - 7s 4ms/step - loss: 0.4544 - accuracy: 0.8396 - val_loss: 0.4536 - val_accuracy: 0.8347\n",
      "1688/1688 [==============================] - 7s 4ms/step - loss: 0.4504 - accuracy: 0.8410 - val_loss: 0.4495 - val_accuracy: 0.8360\n",
      "1688/1688 [==============================] - 7s 4ms/step - loss: 0.4466 - accuracy: 0.8423 - val_loss: 0.4457 - val_accuracy: 0.8378\n",
      "1688/1688 [==============================] - 7s 4ms/step - loss: 0.4431 - accuracy: 0.8433 - val_loss: 0.4422 - val_accuracy: 0.8395\n",
      "1688/1688 [==============================] - 7s 4ms/step - loss: 0.4397 - accuracy: 0.8444 - val_loss: 0.4388 - val_accuracy: 0.8402\n",
      "27\n",
      "1688/1688 [==============================] - 9s 5ms/step - loss: 1.8964 - accuracy: 0.4915 - val_loss: 1.4411 - val_accuracy: 0.6302\n",
      "1688/1688 [==============================] - 9s 5ms/step - loss: 1.2070 - accuracy: 0.6720 - val_loss: 1.0390 - val_accuracy: 0.6977\n",
      "1688/1688 [==============================] - 9s 6ms/step - loss: 0.9370 - accuracy: 0.7148 - val_loss: 0.8588 - val_accuracy: 0.7248\n",
      "1688/1688 [==============================] - 9s 5ms/step - loss: 0.7988 - accuracy: 0.7344 - val_loss: 0.7601 - val_accuracy: 0.7367\n",
      "1688/1688 [==============================] - 10s 6ms/step - loss: 0.7210 - accuracy: 0.7462 - val_loss: 0.7027 - val_accuracy: 0.7477\n",
      "1688/1688 [==============================] - 9s 5ms/step - loss: 0.6735 - accuracy: 0.7576 - val_loss: 0.6646 - val_accuracy: 0.7562\n",
      "1688/1688 [==============================] - 9s 5ms/step - loss: 0.6403 - accuracy: 0.7681 - val_loss: 0.6357 - val_accuracy: 0.7697\n",
      "1688/1688 [==============================] - 9s 5ms/step - loss: 0.6142 - accuracy: 0.7783 - val_loss: 0.6119 - val_accuracy: 0.7797\n",
      "1688/1688 [==============================] - 9s 5ms/step - loss: 0.5923 - accuracy: 0.7873 - val_loss: 0.5914 - val_accuracy: 0.7873\n",
      "1688/1688 [==============================] - 9s 5ms/step - loss: 0.5734 - accuracy: 0.7953 - val_loss: 0.5735 - val_accuracy: 0.7957\n",
      "1688/1688 [==============================] - 9s 5ms/step - loss: 0.5569 - accuracy: 0.8020 - val_loss: 0.5578 - val_accuracy: 0.8017\n",
      "1688/1688 [==============================] - 7s 4ms/step - loss: 0.5425 - accuracy: 0.8083 - val_loss: 0.5440 - val_accuracy: 0.8067\n",
      "1688/1688 [==============================] - 5s 3ms/step - loss: 0.5297 - accuracy: 0.8126 - val_loss: 0.5317 - val_accuracy: 0.8115\n",
      "1688/1688 [==============================] - 5s 3ms/step - loss: 0.5185 - accuracy: 0.8170 - val_loss: 0.5209 - val_accuracy: 0.8147\n",
      "1688/1688 [==============================] - 5s 3ms/step - loss: 0.5086 - accuracy: 0.8207 - val_loss: 0.5113 - val_accuracy: 0.8180\n",
      "1688/1688 [==============================] - 5s 3ms/step - loss: 0.4998 - accuracy: 0.8236 - val_loss: 0.5027 - val_accuracy: 0.8215\n",
      "1688/1688 [==============================] - 5s 3ms/step - loss: 0.4919 - accuracy: 0.8268 - val_loss: 0.4949 - val_accuracy: 0.8238\n",
      "1688/1688 [==============================] - 6s 3ms/step - loss: 0.4848 - accuracy: 0.8289 - val_loss: 0.4879 - val_accuracy: 0.8245\n",
      "1688/1688 [==============================] - 6s 3ms/step - loss: 0.4784 - accuracy: 0.8314 - val_loss: 0.4815 - val_accuracy: 0.8268\n",
      "1688/1688 [==============================] - 5s 3ms/step - loss: 0.4726 - accuracy: 0.8336 - val_loss: 0.4756 - val_accuracy: 0.8288\n",
      "1688/1688 [==============================] - 5s 3ms/step - loss: 0.4672 - accuracy: 0.8351 - val_loss: 0.4702 - val_accuracy: 0.8317\n",
      "1688/1688 [==============================] - 5s 3ms/step - loss: 0.4623 - accuracy: 0.8369 - val_loss: 0.4652 - val_accuracy: 0.8330\n",
      "1688/1688 [==============================] - 5s 3ms/step - loss: 0.4577 - accuracy: 0.8389 - val_loss: 0.4605 - val_accuracy: 0.8343\n",
      "1688/1688 [==============================] - 5s 3ms/step - loss: 0.4534 - accuracy: 0.8404 - val_loss: 0.4562 - val_accuracy: 0.8365\n",
      "1688/1688 [==============================] - 5s 3ms/step - loss: 0.4495 - accuracy: 0.8418 - val_loss: 0.4522 - val_accuracy: 0.8377\n",
      "1688/1688 [==============================] - 5s 3ms/step - loss: 0.4457 - accuracy: 0.8430 - val_loss: 0.4484 - val_accuracy: 0.8392\n",
      "1688/1688 [==============================] - 5s 3ms/step - loss: 0.4422 - accuracy: 0.8443 - val_loss: 0.4448 - val_accuracy: 0.8407\n",
      "1688/1688 [==============================] - 5s 3ms/step - loss: 0.4388 - accuracy: 0.8455 - val_loss: 0.4414 - val_accuracy: 0.8422\n",
      "28\n"
     ]
    }
   ],
   "source": [
    "# Running in arround 960s\n",
    "\n",
    "# some possible numbers to choose\n",
    "hidden_layer_1 = [100, 200, 300, 400, 500, 600]\n",
    "\n",
    "# results\n",
    "loss_history_1 = []\n",
    "epoch_history_1 = []\n",
    "\n",
    "# for the first hidden layer\n",
    "for i in hidden_layer_1:\n",
    "    loss, epoch = test_train_mlp(i, 50)\n",
    "    loss_history_1.append(loss)\n",
    "    epoch_history_1.append(epoch)"
   ]
  },
  {
   "cell_type": "code",
   "execution_count": 14,
   "id": "938aefdd",
   "metadata": {},
   "outputs": [
    {
     "name": "stdout",
     "output_type": "stream",
     "text": [
      "The min loss is 0.4262 when neurons is equal to 100\n",
      "Loss history: [0.4262, 0.4347, 0.4303, 0.4396, 0.4397, 0.4388]\n",
      "Epoch history: [31, 29, 29, 29, 27, 28]\n"
     ]
    }
   ],
   "source": [
    "loss_history_1 = [round(i, 4) for i in loss_history_1]\n",
    "print(f\"The min loss is {min(loss_history_1)} when neurons is equal to {hidden_layer_1[loss_history_1.index(min(loss_history_1))]}\")\n",
    "\n",
    "print(f\"Loss history: {loss_history_1}\")\n",
    "print(f\"Epoch history: {epoch_history_1}\")"
   ]
  },
  {
   "cell_type": "markdown",
   "id": "4ede2ba3",
   "metadata": {},
   "source": [
    "It shows that when the number of neurons of the first layer is 100, the loss is minimal. Although the epochs is slightly larger, which may enhance the performance, the training time is much faster because of the lesser neurons. To keep the model small, we choose the 100 as the first number of neurons of the hidden layers."
   ]
  },
  {
   "cell_type": "code",
   "execution_count": 20,
   "id": "f5e83f4a",
   "metadata": {},
   "outputs": [
    {
     "name": "stdout",
     "output_type": "stream",
     "text": [
      "1688/1688 [==============================] - 3s 2ms/step - loss: 2.1333 - accuracy: 0.3751 - val_loss: 1.8843 - val_accuracy: 0.5248\n",
      "1688/1688 [==============================] - 3s 2ms/step - loss: 1.6377 - accuracy: 0.5556 - val_loss: 1.4350 - val_accuracy: 0.6017\n",
      "1688/1688 [==============================] - 3s 2ms/step - loss: 1.2901 - accuracy: 0.6203 - val_loss: 1.1712 - val_accuracy: 0.6388\n",
      "1688/1688 [==============================] - 3s 2ms/step - loss: 1.0805 - accuracy: 0.6647 - val_loss: 1.0098 - val_accuracy: 0.6842\n",
      "1688/1688 [==============================] - 3s 2ms/step - loss: 0.9468 - accuracy: 0.7041 - val_loss: 0.9018 - val_accuracy: 0.7137\n",
      "1688/1688 [==============================] - 3s 2ms/step - loss: 0.8524 - accuracy: 0.7278 - val_loss: 0.8221 - val_accuracy: 0.7333\n",
      "1688/1688 [==============================] - 3s 2ms/step - loss: 0.7814 - accuracy: 0.7437 - val_loss: 0.7610 - val_accuracy: 0.7447\n",
      "1688/1688 [==============================] - 3s 2ms/step - loss: 0.7265 - accuracy: 0.7546 - val_loss: 0.7134 - val_accuracy: 0.7542\n",
      "1688/1688 [==============================] - 3s 2ms/step - loss: 0.6835 - accuracy: 0.7629 - val_loss: 0.6757 - val_accuracy: 0.7617\n",
      "1688/1688 [==============================] - 3s 1ms/step - loss: 0.6490 - accuracy: 0.7701 - val_loss: 0.6449 - val_accuracy: 0.7692\n",
      "1688/1688 [==============================] - 3s 2ms/step - loss: 0.6208 - accuracy: 0.7774 - val_loss: 0.6193 - val_accuracy: 0.7757\n",
      "1688/1688 [==============================] - 3s 2ms/step - loss: 0.5970 - accuracy: 0.7853 - val_loss: 0.5976 - val_accuracy: 0.7835\n",
      "1688/1688 [==============================] - 3s 2ms/step - loss: 0.5768 - accuracy: 0.7939 - val_loss: 0.5789 - val_accuracy: 0.7915\n",
      "1688/1688 [==============================] - 3s 2ms/step - loss: 0.5593 - accuracy: 0.8022 - val_loss: 0.5628 - val_accuracy: 0.7972\n",
      "1688/1688 [==============================] - 3s 2ms/step - loss: 0.5442 - accuracy: 0.8089 - val_loss: 0.5487 - val_accuracy: 0.8038\n",
      "1688/1688 [==============================] - 3s 2ms/step - loss: 0.5309 - accuracy: 0.8146 - val_loss: 0.5363 - val_accuracy: 0.8085\n",
      "1688/1688 [==============================] - 3s 1ms/step - loss: 0.5192 - accuracy: 0.8195 - val_loss: 0.5254 - val_accuracy: 0.8128\n",
      "1688/1688 [==============================] - 3s 2ms/step - loss: 0.5088 - accuracy: 0.8239 - val_loss: 0.5155 - val_accuracy: 0.8163\n",
      "1688/1688 [==============================] - 3s 2ms/step - loss: 0.4995 - accuracy: 0.8271 - val_loss: 0.5067 - val_accuracy: 0.8185\n",
      "1688/1688 [==============================] - 3s 2ms/step - loss: 0.4912 - accuracy: 0.8302 - val_loss: 0.4986 - val_accuracy: 0.8223\n",
      "1688/1688 [==============================] - 3s 2ms/step - loss: 0.4836 - accuracy: 0.8329 - val_loss: 0.4913 - val_accuracy: 0.8257\n",
      "1688/1688 [==============================] - 3s 2ms/step - loss: 0.4766 - accuracy: 0.8354 - val_loss: 0.4844 - val_accuracy: 0.8285\n",
      "1688/1688 [==============================] - 3s 2ms/step - loss: 0.4702 - accuracy: 0.8375 - val_loss: 0.4781 - val_accuracy: 0.8298\n",
      "1688/1688 [==============================] - 3s 2ms/step - loss: 0.4643 - accuracy: 0.8395 - val_loss: 0.4723 - val_accuracy: 0.8332\n",
      "1688/1688 [==============================] - 3s 2ms/step - loss: 0.4587 - accuracy: 0.8408 - val_loss: 0.4667 - val_accuracy: 0.8348\n",
      "1688/1688 [==============================] - 3s 2ms/step - loss: 0.4536 - accuracy: 0.8422 - val_loss: 0.4616 - val_accuracy: 0.8363\n",
      "1688/1688 [==============================] - 3s 2ms/step - loss: 0.4487 - accuracy: 0.8436 - val_loss: 0.4567 - val_accuracy: 0.8382\n",
      "1688/1688 [==============================] - 3s 2ms/step - loss: 0.4441 - accuracy: 0.8453 - val_loss: 0.4521 - val_accuracy: 0.8393\n",
      "1688/1688 [==============================] - 3s 2ms/step - loss: 0.4397 - accuracy: 0.8468 - val_loss: 0.4477 - val_accuracy: 0.8407\n",
      "1688/1688 [==============================] - 3s 2ms/step - loss: 0.4355 - accuracy: 0.8485 - val_loss: 0.4435 - val_accuracy: 0.8418\n",
      "1688/1688 [==============================] - 3s 2ms/step - loss: 0.4316 - accuracy: 0.8496 - val_loss: 0.4396 - val_accuracy: 0.8430\n",
      "1688/1688 [==============================] - 3s 2ms/step - loss: 0.4278 - accuracy: 0.8510 - val_loss: 0.4358 - val_accuracy: 0.8450\n",
      "1688/1688 [==============================] - 3s 2ms/step - loss: 0.4242 - accuracy: 0.8518 - val_loss: 0.4322 - val_accuracy: 0.8465\n",
      "33\n",
      "1688/1688 [==============================] - 3s 2ms/step - loss: 2.0720 - accuracy: 0.4346 - val_loss: 1.7385 - val_accuracy: 0.5160\n",
      "1688/1688 [==============================] - 3s 2ms/step - loss: 1.4485 - accuracy: 0.5790 - val_loss: 1.2341 - val_accuracy: 0.6147\n",
      "1688/1688 [==============================] - 2s 1ms/step - loss: 1.1067 - accuracy: 0.6483 - val_loss: 1.0063 - val_accuracy: 0.6663\n",
      "1688/1688 [==============================] - 3s 1ms/step - loss: 0.9329 - accuracy: 0.6886 - val_loss: 0.8773 - val_accuracy: 0.7000\n",
      "1688/1688 [==============================] - 3s 2ms/step - loss: 0.8280 - accuracy: 0.7156 - val_loss: 0.7935 - val_accuracy: 0.7273\n",
      "1688/1688 [==============================] - 2s 1ms/step - loss: 0.7562 - accuracy: 0.7360 - val_loss: 0.7323 - val_accuracy: 0.7460\n",
      "1688/1688 [==============================] - 2s 1ms/step - loss: 0.7024 - accuracy: 0.7522 - val_loss: 0.6855 - val_accuracy: 0.7583\n",
      "1688/1688 [==============================] - 3s 2ms/step - loss: 0.6609 - accuracy: 0.7644 - val_loss: 0.6493 - val_accuracy: 0.7672\n",
      "1688/1688 [==============================] - 3s 2ms/step - loss: 0.6285 - accuracy: 0.7750 - val_loss: 0.6210 - val_accuracy: 0.7773\n",
      "1688/1688 [==============================] - 3s 1ms/step - loss: 0.6026 - accuracy: 0.7844 - val_loss: 0.5980 - val_accuracy: 0.7853\n",
      "1688/1688 [==============================] - 3s 2ms/step - loss: 0.5812 - accuracy: 0.7925 - val_loss: 0.5786 - val_accuracy: 0.7917\n",
      "1688/1688 [==============================] - 2s 1ms/step - loss: 0.5629 - accuracy: 0.7999 - val_loss: 0.5617 - val_accuracy: 0.7967\n",
      "1688/1688 [==============================] - 2s 1ms/step - loss: 0.5469 - accuracy: 0.8062 - val_loss: 0.5469 - val_accuracy: 0.8043\n",
      "1688/1688 [==============================] - 2s 1ms/step - loss: 0.5330 - accuracy: 0.8119 - val_loss: 0.5338 - val_accuracy: 0.8077\n",
      "1688/1688 [==============================] - 2s 1ms/step - loss: 0.5207 - accuracy: 0.8164 - val_loss: 0.5223 - val_accuracy: 0.8118\n",
      "1688/1688 [==============================] - 3s 2ms/step - loss: 0.5098 - accuracy: 0.8208 - val_loss: 0.5120 - val_accuracy: 0.8140\n",
      "1688/1688 [==============================] - 2s 1ms/step - loss: 0.5002 - accuracy: 0.8234 - val_loss: 0.5029 - val_accuracy: 0.8180\n",
      "1688/1688 [==============================] - 2s 1ms/step - loss: 0.4917 - accuracy: 0.8265 - val_loss: 0.4947 - val_accuracy: 0.8195\n",
      "1688/1688 [==============================] - 3s 2ms/step - loss: 0.4840 - accuracy: 0.8297 - val_loss: 0.4874 - val_accuracy: 0.8232\n",
      "1688/1688 [==============================] - 3s 2ms/step - loss: 0.4771 - accuracy: 0.8318 - val_loss: 0.4806 - val_accuracy: 0.8248\n",
      "1688/1688 [==============================] - 3s 1ms/step - loss: 0.4707 - accuracy: 0.8338 - val_loss: 0.4744 - val_accuracy: 0.8278\n",
      "1688/1688 [==============================] - 2s 1ms/step - loss: 0.4649 - accuracy: 0.8362 - val_loss: 0.4687 - val_accuracy: 0.8300\n",
      "1688/1688 [==============================] - 3s 2ms/step - loss: 0.4595 - accuracy: 0.8378 - val_loss: 0.4634 - val_accuracy: 0.8333\n",
      "1688/1688 [==============================] - 3s 2ms/step - loss: 0.4544 - accuracy: 0.8395 - val_loss: 0.4584 - val_accuracy: 0.8337\n",
      "1688/1688 [==============================] - 3s 2ms/step - loss: 0.4497 - accuracy: 0.8406 - val_loss: 0.4537 - val_accuracy: 0.8345\n",
      "1688/1688 [==============================] - 2s 1ms/step - loss: 0.4453 - accuracy: 0.8424 - val_loss: 0.4493 - val_accuracy: 0.8355\n",
      "1688/1688 [==============================] - 3s 1ms/step - loss: 0.4411 - accuracy: 0.8438 - val_loss: 0.4451 - val_accuracy: 0.8373\n",
      "1688/1688 [==============================] - 3s 2ms/step - loss: 0.4371 - accuracy: 0.8451 - val_loss: 0.4412 - val_accuracy: 0.8382\n",
      "1688/1688 [==============================] - 3s 1ms/step - loss: 0.4333 - accuracy: 0.8464 - val_loss: 0.4374 - val_accuracy: 0.8393\n",
      "1688/1688 [==============================] - 2s 1ms/step - loss: 0.4297 - accuracy: 0.8476 - val_loss: 0.4339 - val_accuracy: 0.8418\n",
      "30\n",
      "1688/1688 [==============================] - 3s 2ms/step - loss: 2.0393 - accuracy: 0.4523 - val_loss: 1.6836 - val_accuracy: 0.5318\n",
      "1688/1688 [==============================] - 3s 1ms/step - loss: 1.4158 - accuracy: 0.6095 - val_loss: 1.2091 - val_accuracy: 0.6548\n",
      "1688/1688 [==============================] - 3s 1ms/step - loss: 1.0876 - accuracy: 0.6818 - val_loss: 0.9869 - val_accuracy: 0.7002\n",
      "1688/1688 [==============================] - 2s 1ms/step - loss: 0.9139 - accuracy: 0.7150 - val_loss: 0.8540 - val_accuracy: 0.7237\n",
      "1688/1688 [==============================] - 3s 2ms/step - loss: 0.8036 - accuracy: 0.7340 - val_loss: 0.7670 - val_accuracy: 0.7367\n",
      "1688/1688 [==============================] - 3s 2ms/step - loss: 0.7308 - accuracy: 0.7475 - val_loss: 0.7088 - val_accuracy: 0.7502\n",
      "1688/1688 [==============================] - 3s 1ms/step - loss: 0.6810 - accuracy: 0.7584 - val_loss: 0.6675 - val_accuracy: 0.7588\n",
      "1688/1688 [==============================] - 2s 1ms/step - loss: 0.6446 - accuracy: 0.7677 - val_loss: 0.6361 - val_accuracy: 0.7662\n",
      "1688/1688 [==============================] - 3s 1ms/step - loss: 0.6161 - accuracy: 0.7772 - val_loss: 0.6107 - val_accuracy: 0.7772\n",
      "1688/1688 [==============================] - 3s 2ms/step - loss: 0.5926 - accuracy: 0.7858 - val_loss: 0.5893 - val_accuracy: 0.7850\n",
      "1688/1688 [==============================] - 3s 2ms/step - loss: 0.5727 - accuracy: 0.7950 - val_loss: 0.5709 - val_accuracy: 0.7912\n",
      "1688/1688 [==============================] - 3s 2ms/step - loss: 0.5555 - accuracy: 0.8033 - val_loss: 0.5550 - val_accuracy: 0.7988\n",
      "1688/1688 [==============================] - 3s 1ms/step - loss: 0.5406 - accuracy: 0.8095 - val_loss: 0.5410 - val_accuracy: 0.8052\n",
      "1688/1688 [==============================] - 3s 2ms/step - loss: 0.5275 - accuracy: 0.8140 - val_loss: 0.5288 - val_accuracy: 0.8092\n",
      "1688/1688 [==============================] - 3s 2ms/step - loss: 0.5160 - accuracy: 0.8184 - val_loss: 0.5179 - val_accuracy: 0.8125\n",
      "1688/1688 [==============================] - 3s 2ms/step - loss: 0.5058 - accuracy: 0.8219 - val_loss: 0.5082 - val_accuracy: 0.8168\n",
      "1688/1688 [==============================] - 3s 2ms/step - loss: 0.4967 - accuracy: 0.8249 - val_loss: 0.4995 - val_accuracy: 0.8205\n",
      "1688/1688 [==============================] - 3s 2ms/step - loss: 0.4886 - accuracy: 0.8280 - val_loss: 0.4915 - val_accuracy: 0.8245\n",
      "1688/1688 [==============================] - 3s 2ms/step - loss: 0.4812 - accuracy: 0.8307 - val_loss: 0.4843 - val_accuracy: 0.8275\n",
      "1688/1688 [==============================] - 2s 1ms/step - loss: 0.4744 - accuracy: 0.8332 - val_loss: 0.4777 - val_accuracy: 0.8288\n",
      "1688/1688 [==============================] - 2s 1ms/step - loss: 0.4682 - accuracy: 0.8351 - val_loss: 0.4716 - val_accuracy: 0.8288\n",
      "1688/1688 [==============================] - 3s 1ms/step - loss: 0.4625 - accuracy: 0.8371 - val_loss: 0.4659 - val_accuracy: 0.8313\n",
      "1688/1688 [==============================] - 3s 2ms/step - loss: 0.4572 - accuracy: 0.8388 - val_loss: 0.4606 - val_accuracy: 0.8330\n",
      "1688/1688 [==============================] - 3s 2ms/step - loss: 0.4523 - accuracy: 0.8402 - val_loss: 0.4556 - val_accuracy: 0.8345\n",
      "1688/1688 [==============================] - 3s 2ms/step - loss: 0.4476 - accuracy: 0.8420 - val_loss: 0.4510 - val_accuracy: 0.8368\n",
      "1688/1688 [==============================] - 3s 2ms/step - loss: 0.4433 - accuracy: 0.8435 - val_loss: 0.4467 - val_accuracy: 0.8387\n",
      "1688/1688 [==============================] - 2s 1ms/step - loss: 0.4392 - accuracy: 0.8449 - val_loss: 0.4426 - val_accuracy: 0.8392\n",
      "1688/1688 [==============================] - 3s 2ms/step - loss: 0.4353 - accuracy: 0.8462 - val_loss: 0.4387 - val_accuracy: 0.8402\n",
      "1688/1688 [==============================] - 3s 2ms/step - loss: 0.4317 - accuracy: 0.8474 - val_loss: 0.4351 - val_accuracy: 0.8410\n",
      "1688/1688 [==============================] - 3s 2ms/step - loss: 0.4282 - accuracy: 0.8485 - val_loss: 0.4316 - val_accuracy: 0.8420\n",
      "30\n",
      "1688/1688 [==============================] - 3s 2ms/step - loss: 2.0101 - accuracy: 0.3687 - val_loss: 1.6601 - val_accuracy: 0.4947\n",
      "1688/1688 [==============================] - 3s 2ms/step - loss: 1.4353 - accuracy: 0.5790 - val_loss: 1.2544 - val_accuracy: 0.6227\n",
      "1688/1688 [==============================] - 3s 2ms/step - loss: 1.1298 - accuracy: 0.6488 - val_loss: 1.0253 - val_accuracy: 0.6632\n",
      "1688/1688 [==============================] - 3s 2ms/step - loss: 0.9478 - accuracy: 0.6859 - val_loss: 0.8849 - val_accuracy: 0.6968\n",
      "1688/1688 [==============================] - 3s 2ms/step - loss: 0.8328 - accuracy: 0.7153 - val_loss: 0.7936 - val_accuracy: 0.7223\n",
      "1688/1688 [==============================] - 3s 2ms/step - loss: 0.7562 - accuracy: 0.7359 - val_loss: 0.7308 - val_accuracy: 0.7402\n",
      "1688/1688 [==============================] - 3s 2ms/step - loss: 0.7019 - accuracy: 0.7504 - val_loss: 0.6848 - val_accuracy: 0.7527\n",
      "1688/1688 [==============================] - 3s 2ms/step - loss: 0.6610 - accuracy: 0.7620 - val_loss: 0.6497 - val_accuracy: 0.7637\n",
      "1688/1688 [==============================] - 3s 2ms/step - loss: 0.6288 - accuracy: 0.7732 - val_loss: 0.6214 - val_accuracy: 0.7730\n",
      "1688/1688 [==============================] - 3s 2ms/step - loss: 0.6025 - accuracy: 0.7825 - val_loss: 0.5977 - val_accuracy: 0.7817\n",
      "1688/1688 [==============================] - 3s 2ms/step - loss: 0.5800 - accuracy: 0.7914 - val_loss: 0.5771 - val_accuracy: 0.7878\n",
      "1688/1688 [==============================] - 3s 2ms/step - loss: 0.5605 - accuracy: 0.8004 - val_loss: 0.5589 - val_accuracy: 0.7942\n",
      "1688/1688 [==============================] - 3s 2ms/step - loss: 0.5434 - accuracy: 0.8082 - val_loss: 0.5431 - val_accuracy: 0.8030\n",
      "1688/1688 [==============================] - 3s 2ms/step - loss: 0.5287 - accuracy: 0.8138 - val_loss: 0.5293 - val_accuracy: 0.8088\n",
      "1688/1688 [==============================] - 3s 2ms/step - loss: 0.5160 - accuracy: 0.8193 - val_loss: 0.5174 - val_accuracy: 0.8127\n",
      "1688/1688 [==============================] - 3s 2ms/step - loss: 0.5050 - accuracy: 0.8234 - val_loss: 0.5070 - val_accuracy: 0.8147\n",
      "1688/1688 [==============================] - 3s 2ms/step - loss: 0.4954 - accuracy: 0.8267 - val_loss: 0.4979 - val_accuracy: 0.8180\n",
      "1688/1688 [==============================] - 3s 2ms/step - loss: 0.4869 - accuracy: 0.8291 - val_loss: 0.4897 - val_accuracy: 0.8215\n",
      "1688/1688 [==============================] - 3s 2ms/step - loss: 0.4794 - accuracy: 0.8311 - val_loss: 0.4824 - val_accuracy: 0.8255\n",
      "1688/1688 [==============================] - 3s 2ms/step - loss: 0.4726 - accuracy: 0.8340 - val_loss: 0.4757 - val_accuracy: 0.8280\n",
      "1688/1688 [==============================] - 3s 2ms/step - loss: 0.4663 - accuracy: 0.8364 - val_loss: 0.4696 - val_accuracy: 0.8302\n",
      "1688/1688 [==============================] - 3s 2ms/step - loss: 0.4605 - accuracy: 0.8384 - val_loss: 0.4639 - val_accuracy: 0.8325\n",
      "1688/1688 [==============================] - 3s 2ms/step - loss: 0.4552 - accuracy: 0.8406 - val_loss: 0.4586 - val_accuracy: 0.8342\n",
      "1688/1688 [==============================] - 3s 2ms/step - loss: 0.4502 - accuracy: 0.8423 - val_loss: 0.4537 - val_accuracy: 0.8363\n",
      "1688/1688 [==============================] - 3s 2ms/step - loss: 0.4455 - accuracy: 0.8438 - val_loss: 0.4491 - val_accuracy: 0.8383\n",
      "1688/1688 [==============================] - 3s 2ms/step - loss: 0.4411 - accuracy: 0.8450 - val_loss: 0.4448 - val_accuracy: 0.8407\n",
      "1688/1688 [==============================] - 3s 2ms/step - loss: 0.4369 - accuracy: 0.8464 - val_loss: 0.4408 - val_accuracy: 0.8417\n",
      "1688/1688 [==============================] - 3s 2ms/step - loss: 0.4330 - accuracy: 0.8475 - val_loss: 0.4370 - val_accuracy: 0.8437\n",
      "1688/1688 [==============================] - 3s 2ms/step - loss: 0.4293 - accuracy: 0.8489 - val_loss: 0.4334 - val_accuracy: 0.8443\n",
      "1688/1688 [==============================] - 3s 2ms/step - loss: 0.4258 - accuracy: 0.8500 - val_loss: 0.4300 - val_accuracy: 0.8457\n",
      "30\n"
     ]
    }
   ],
   "source": [
    "# Running in arround 340s\n",
    "\n",
    "# some possible numbers to choose\n",
    "hidden_layer_2 = [20, 40, 60, 80]\n",
    "\n",
    "# results\n",
    "loss_history_2 = []\n",
    "epoch_history_2 = []\n",
    "\n",
    "# for the first hidden layer\n",
    "for i in hidden_layer_2:\n",
    "    loss, epoch = test_train_mlp(100, i)\n",
    "    loss_history_2.append(loss)\n",
    "    epoch_history_2.append(epoch)"
   ]
  },
  {
   "cell_type": "code",
   "execution_count": 21,
   "id": "e5ec56b9",
   "metadata": {},
   "outputs": [
    {
     "name": "stdout",
     "output_type": "stream",
     "text": [
      "The min loss is 0.4242 when neurons is equal to 20\n",
      "Loss history: [0.4242, 0.4297, 0.4282, 0.4258]\n",
      "Epoch history: [33, 30, 30, 30]\n"
     ]
    }
   ],
   "source": [
    "loss_history_2 = [round(i, 4) for i in loss_history_2]\n",
    "print(f\"The min loss is {min(loss_history_2)} when neurons is equal to {hidden_layer_2[loss_history_2.index(min(loss_history_2))]}\")\n",
    "\n",
    "print(f\"Loss history: {loss_history_2}\")\n",
    "print(f\"Epoch history: {epoch_history_2}\")"
   ]
  },
  {
   "cell_type": "markdown",
   "id": "d9f06bf4",
   "metadata": {},
   "source": [
    "We select 20 as the neurons of the second hidden layer using the same method as before consistently. "
   ]
  },
  {
   "cell_type": "markdown",
   "metadata": {},
   "source": [
    "### Convolutional neural network"
   ]
  },
  {
   "cell_type": "markdown",
   "metadata": {},
   "source": [
    "## 3. Hyperparameter tuning"
   ]
  },
  {
   "cell_type": "code",
   "execution_count": 82,
   "id": "5fd29f8a",
   "metadata": {},
   "outputs": [],
   "source": [
    "# Helper method in this section.\n",
    "def get_result(estimator, paras, X_train=X_train, y_train=y_train, X_valid=X_valid, y_valid=y_valid, epochs=1):\n",
    "    \"\"\"get grid search result.\n",
    "    estimator: model to be tuned.\n",
    "    paras: an instance of ParameterGrid.\"\"\"\n",
    "    # Return a dict\n",
    "    result = {\n",
    "        \"best_paras\": None,\n",
    "        \"best_score\": 0,\n",
    "        \"best_estimator\": None,\n",
    "        \"results\": [],\n",
    "    }\n",
    "\n",
    "    i = 0\n",
    "\n",
    "    # Grid search for each combination.\n",
    "    for para in paras:\n",
    "        # Set para\n",
    "        current_estimator = clone(estimator)\n",
    "        current_estimator.set_params(**para)\n",
    "\n",
    "        # Training and timer\n",
    "        t1 = time.time()\n",
    "        if epochs == 1:\n",
    "            current_estimator.fit(X_train, y_train)\n",
    "        else:\n",
    "            current_estimator.fit(X_train, y_train, epochs=epochs)\n",
    "        t2 = time.time()\n",
    "\n",
    "        # Score on validation set\n",
    "        score = current_estimator.score(X_valid, y_valid)\n",
    "        t3 = time.time()\n",
    "\n",
    "        # result for each combination\n",
    "        temp = {}\n",
    "        temp[\"paras\"] = para\n",
    "        temp[\"training_time\"] = t2 - t1\n",
    "        temp[\"validation_time\"] = t3 - t2\n",
    "        temp[\"score\"] =score\n",
    "        \n",
    "        # Update the best result\n",
    "        result[\"results\"].append(temp)\n",
    "        if score > result[\"best_score\"]:\n",
    "            result[\"best_paras\"] = para\n",
    "            result[\"best_score\"] = score\n",
    "            result[\"best_estimator\"] = current_estimator\n",
    "        \n",
    "        i += 1\n",
    "        print(f\"{i} out of {len(list(paras))} finished.\")\n",
    "\n",
    "    return result\n",
    "\n",
    "def show_results(name, result, X_test=X_test, y_test=y_test):\n",
    "    \"\"\"Show the results.\"\"\"\n",
    "    print(f\"Results for {name}:\")\n",
    "    print(\"Best parameters: {}\".format(result[\"best_paras\"]))\n",
    "    print(\"Best validation score: {:.4f}\".format(result[\"best_score\"]))\n",
    "    print(\"Test set score: {:.4f}\".format(result[\"best_estimator\"].score(X_test, y_test)))\n",
    "\n",
    "    # table of results\n",
    "    df = pd.DataFrame(\n",
    "        columns=[\"Score\", \"training_time\", \"validation_time\"], \n",
    "        index=[str(result[\"results\"][i][\"paras\"]) for i in range(len(result[\"results\"]))]\n",
    "        )\n",
    "\n",
    "    for i in range(len(result[\"results\"])):\n",
    "        df.loc[str(result[\"results\"][i][\"paras\"])] = [\n",
    "            round(result[\"results\"][i][\"score\"], 4),\n",
    "            round(result[\"results\"][i][\"training_time\"], 2),\n",
    "            round(result[\"results\"][i][\"validation_time\"], 2)\n",
    "            ]\n",
    "\n",
    "    df.to_csv(f'{name}_results.csv')\n",
    "    display(df)"
   ]
  },
  {
   "cell_type": "markdown",
   "metadata": {},
   "source": [
    "### 3.1 K-nearest neighbors"
   ]
  },
  {
   "cell_type": "markdown",
   "id": "1c5065b2",
   "metadata": {},
   "source": [
    "First, to determine a rough trend of the accuracy with different k, we calculate an accuracy every 10 with different k, until k = 245 (sqrt(#examples)), e.g., k = [1, 11, 21, ..., 241]"
   ]
  },
  {
   "cell_type": "code",
   "execution_count": 17,
   "id": "7796726f",
   "metadata": {},
   "outputs": [
    {
     "name": "stdout",
     "output_type": "stream",
     "text": [
      "k = 1\t finished.\n",
      "k = 11\t finished.\n",
      "k = 21\t finished.\n",
      "k = 31\t finished.\n",
      "k = 41\t finished.\n",
      "k = 51\t finished.\n",
      "k = 61\t finished.\n",
      "k = 71\t finished.\n",
      "k = 81\t finished.\n",
      "k = 91\t finished.\n"
     ]
    },
    {
     "ename": "KeyboardInterrupt",
     "evalue": "",
     "output_type": "error",
     "traceback": [
      "\u001b[1;31m---------------------------------------------------------------------------\u001b[0m",
      "\u001b[1;31mKeyboardInterrupt\u001b[0m                         Traceback (most recent call last)",
      "\u001b[1;32mc:\\Users\\1\\Desktop\\AS2\\a2-490576560-520653377.ipynb Cell 37\u001b[0m in \u001b[0;36m<cell line: 6>\u001b[1;34m()\u001b[0m\n\u001b[0;32m      <a href='vscode-notebook-cell:/c%3A/Users/1/Desktop/AS2/a2-490576560-520653377.ipynb#X40sZmlsZQ%3D%3D?line=8'>9</a>\u001b[0m knn \u001b[39m=\u001b[39m KNeighborsClassifier(n_neighbors\u001b[39m=\u001b[39mi)\n\u001b[0;32m     <a href='vscode-notebook-cell:/c%3A/Users/1/Desktop/AS2/a2-490576560-520653377.ipynb#X40sZmlsZQ%3D%3D?line=9'>10</a>\u001b[0m knn\u001b[39m.\u001b[39mfit(X_train_full\u001b[39m.\u001b[39mreshape(X_train_full\u001b[39m.\u001b[39mshape[\u001b[39m0\u001b[39m], \u001b[39m-\u001b[39m\u001b[39m1\u001b[39m), y_train_full)\n\u001b[1;32m---> <a href='vscode-notebook-cell:/c%3A/Users/1/Desktop/AS2/a2-490576560-520653377.ipynb#X40sZmlsZQ%3D%3D?line=10'>11</a>\u001b[0m k_acc\u001b[39m.\u001b[39mappend(knn\u001b[39m.\u001b[39;49mscore(X_test\u001b[39m.\u001b[39;49mreshape(X_test\u001b[39m.\u001b[39;49mshape[\u001b[39m0\u001b[39;49m], \u001b[39m-\u001b[39;49m\u001b[39m1\u001b[39;49m), y_test))\n\u001b[0;32m     <a href='vscode-notebook-cell:/c%3A/Users/1/Desktop/AS2/a2-490576560-520653377.ipynb#X40sZmlsZQ%3D%3D?line=11'>12</a>\u001b[0m \u001b[39mprint\u001b[39m(\u001b[39mf\u001b[39m\u001b[39m\"\u001b[39m\u001b[39mk = \u001b[39m\u001b[39m{\u001b[39;00mi\u001b[39m}\u001b[39;00m\u001b[39m\\t\u001b[39;00m\u001b[39m finished.\u001b[39m\u001b[39m\"\u001b[39m)\n",
      "File \u001b[1;32mc:\\Users\\1\\PycharmProjects\\5318\\venv\\lib\\site-packages\\sklearn\\base.py:666\u001b[0m, in \u001b[0;36mClassifierMixin.score\u001b[1;34m(self, X, y, sample_weight)\u001b[0m\n\u001b[0;32m    641\u001b[0m \u001b[39m\"\"\"\u001b[39;00m\n\u001b[0;32m    642\u001b[0m \u001b[39mReturn the mean accuracy on the given test data and labels.\u001b[39;00m\n\u001b[0;32m    643\u001b[0m \n\u001b[1;32m   (...)\u001b[0m\n\u001b[0;32m    662\u001b[0m \u001b[39m    Mean accuracy of ``self.predict(X)`` wrt. `y`.\u001b[39;00m\n\u001b[0;32m    663\u001b[0m \u001b[39m\"\"\"\u001b[39;00m\n\u001b[0;32m    664\u001b[0m \u001b[39mfrom\u001b[39;00m \u001b[39m.\u001b[39;00m\u001b[39mmetrics\u001b[39;00m \u001b[39mimport\u001b[39;00m accuracy_score\n\u001b[1;32m--> 666\u001b[0m \u001b[39mreturn\u001b[39;00m accuracy_score(y, \u001b[39mself\u001b[39;49m\u001b[39m.\u001b[39;49mpredict(X), sample_weight\u001b[39m=\u001b[39msample_weight)\n",
      "File \u001b[1;32mc:\\Users\\1\\PycharmProjects\\5318\\venv\\lib\\site-packages\\sklearn\\neighbors\\_classification.py:226\u001b[0m, in \u001b[0;36mKNeighborsClassifier.predict\u001b[1;34m(self, X)\u001b[0m\n\u001b[0;32m    210\u001b[0m \u001b[39m\"\"\"Predict the class labels for the provided data.\u001b[39;00m\n\u001b[0;32m    211\u001b[0m \n\u001b[0;32m    212\u001b[0m \u001b[39mParameters\u001b[39;00m\n\u001b[1;32m   (...)\u001b[0m\n\u001b[0;32m    221\u001b[0m \u001b[39m    Class labels for each data sample.\u001b[39;00m\n\u001b[0;32m    222\u001b[0m \u001b[39m\"\"\"\u001b[39;00m\n\u001b[0;32m    223\u001b[0m \u001b[39mif\u001b[39;00m \u001b[39mself\u001b[39m\u001b[39m.\u001b[39mweights \u001b[39m==\u001b[39m \u001b[39m\"\u001b[39m\u001b[39muniform\u001b[39m\u001b[39m\"\u001b[39m:\n\u001b[0;32m    224\u001b[0m     \u001b[39m# In that case, we do not need the distances to perform\u001b[39;00m\n\u001b[0;32m    225\u001b[0m     \u001b[39m# the weighting so we do not compute them.\u001b[39;00m\n\u001b[1;32m--> 226\u001b[0m     neigh_ind \u001b[39m=\u001b[39m \u001b[39mself\u001b[39;49m\u001b[39m.\u001b[39;49mkneighbors(X, return_distance\u001b[39m=\u001b[39;49m\u001b[39mFalse\u001b[39;49;00m)\n\u001b[0;32m    227\u001b[0m     neigh_dist \u001b[39m=\u001b[39m \u001b[39mNone\u001b[39;00m\n\u001b[0;32m    228\u001b[0m \u001b[39melse\u001b[39;00m:\n",
      "File \u001b[1;32mc:\\Users\\1\\PycharmProjects\\5318\\venv\\lib\\site-packages\\sklearn\\neighbors\\_base.py:763\u001b[0m, in \u001b[0;36mKNeighborsMixin.kneighbors\u001b[1;34m(self, X, n_neighbors, return_distance)\u001b[0m\n\u001b[0;32m    756\u001b[0m use_pairwise_distances_reductions \u001b[39m=\u001b[39m (\n\u001b[0;32m    757\u001b[0m     \u001b[39mself\u001b[39m\u001b[39m.\u001b[39m_fit_method \u001b[39m==\u001b[39m \u001b[39m\"\u001b[39m\u001b[39mbrute\u001b[39m\u001b[39m\"\u001b[39m\n\u001b[0;32m    758\u001b[0m     \u001b[39mand\u001b[39;00m PairwiseDistancesArgKmin\u001b[39m.\u001b[39mis_usable_for(\n\u001b[0;32m    759\u001b[0m         X \u001b[39mif\u001b[39;00m X \u001b[39mis\u001b[39;00m \u001b[39mnot\u001b[39;00m \u001b[39mNone\u001b[39;00m \u001b[39melse\u001b[39;00m \u001b[39mself\u001b[39m\u001b[39m.\u001b[39m_fit_X, \u001b[39mself\u001b[39m\u001b[39m.\u001b[39m_fit_X, \u001b[39mself\u001b[39m\u001b[39m.\u001b[39meffective_metric_\n\u001b[0;32m    760\u001b[0m     )\n\u001b[0;32m    761\u001b[0m )\n\u001b[0;32m    762\u001b[0m \u001b[39mif\u001b[39;00m use_pairwise_distances_reductions:\n\u001b[1;32m--> 763\u001b[0m     results \u001b[39m=\u001b[39m PairwiseDistancesArgKmin\u001b[39m.\u001b[39;49mcompute(\n\u001b[0;32m    764\u001b[0m         X\u001b[39m=\u001b[39;49mX,\n\u001b[0;32m    765\u001b[0m         Y\u001b[39m=\u001b[39;49m\u001b[39mself\u001b[39;49m\u001b[39m.\u001b[39;49m_fit_X,\n\u001b[0;32m    766\u001b[0m         k\u001b[39m=\u001b[39;49mn_neighbors,\n\u001b[0;32m    767\u001b[0m         metric\u001b[39m=\u001b[39;49m\u001b[39mself\u001b[39;49m\u001b[39m.\u001b[39;49meffective_metric_,\n\u001b[0;32m    768\u001b[0m         metric_kwargs\u001b[39m=\u001b[39;49m\u001b[39mself\u001b[39;49m\u001b[39m.\u001b[39;49meffective_metric_params_,\n\u001b[0;32m    769\u001b[0m         strategy\u001b[39m=\u001b[39;49m\u001b[39m\"\u001b[39;49m\u001b[39mauto\u001b[39;49m\u001b[39m\"\u001b[39;49m,\n\u001b[0;32m    770\u001b[0m         return_distance\u001b[39m=\u001b[39;49mreturn_distance,\n\u001b[0;32m    771\u001b[0m     )\n\u001b[0;32m    773\u001b[0m \u001b[39melif\u001b[39;00m (\n\u001b[0;32m    774\u001b[0m     \u001b[39mself\u001b[39m\u001b[39m.\u001b[39m_fit_method \u001b[39m==\u001b[39m \u001b[39m\"\u001b[39m\u001b[39mbrute\u001b[39m\u001b[39m\"\u001b[39m \u001b[39mand\u001b[39;00m \u001b[39mself\u001b[39m\u001b[39m.\u001b[39mmetric \u001b[39m==\u001b[39m \u001b[39m\"\u001b[39m\u001b[39mprecomputed\u001b[39m\u001b[39m\"\u001b[39m \u001b[39mand\u001b[39;00m issparse(X)\n\u001b[0;32m    775\u001b[0m ):\n\u001b[0;32m    776\u001b[0m     results \u001b[39m=\u001b[39m _kneighbors_from_graph(\n\u001b[0;32m    777\u001b[0m         X, n_neighbors\u001b[39m=\u001b[39mn_neighbors, return_distance\u001b[39m=\u001b[39mreturn_distance\n\u001b[0;32m    778\u001b[0m     )\n",
      "File \u001b[1;32msklearn\\metrics\\_pairwise_distances_reduction.pyx:698\u001b[0m, in \u001b[0;36msklearn.metrics._pairwise_distances_reduction.PairwiseDistancesArgKmin.compute\u001b[1;34m()\u001b[0m\n",
      "File \u001b[1;32mc:\\Users\\1\\PycharmProjects\\5318\\venv\\lib\\site-packages\\threadpoolctl.py:171\u001b[0m, in \u001b[0;36m_ThreadpoolLimiter.__exit__\u001b[1;34m(self, type, value, traceback)\u001b[0m\n\u001b[0;32m    168\u001b[0m \u001b[39mdef\u001b[39;00m \u001b[39m__enter__\u001b[39m(\u001b[39mself\u001b[39m):\n\u001b[0;32m    169\u001b[0m     \u001b[39mreturn\u001b[39;00m \u001b[39mself\u001b[39m\n\u001b[1;32m--> 171\u001b[0m \u001b[39mdef\u001b[39;00m \u001b[39m__exit__\u001b[39m(\u001b[39mself\u001b[39m, \u001b[39mtype\u001b[39m, value, traceback):\n\u001b[0;32m    172\u001b[0m     \u001b[39mself\u001b[39m\u001b[39m.\u001b[39mrestore_original_limits()\n\u001b[0;32m    174\u001b[0m \u001b[39m@classmethod\u001b[39m\n\u001b[0;32m    175\u001b[0m \u001b[39mdef\u001b[39;00m \u001b[39mwrap\u001b[39m(\u001b[39mcls\u001b[39m, controller, \u001b[39m*\u001b[39m, limits\u001b[39m=\u001b[39m\u001b[39mNone\u001b[39;00m, user_api\u001b[39m=\u001b[39m\u001b[39mNone\u001b[39;00m):\n",
      "\u001b[1;31mKeyboardInterrupt\u001b[0m: "
     ]
    }
   ],
   "source": [
    "# Running in arroung 190s\n",
    "\n",
    "k_value = [1 + i for i in range(245)]\n",
    "k_acc = []\n",
    "\n",
    "for i in k_value:\n",
    "    if i % 10 != 1:\n",
    "        continue\n",
    "    knn = KNeighborsClassifier(n_neighbors=i)\n",
    "    knn.fit(X_train_full.reshape(X_train_full.shape[0], -1), y_train_full)\n",
    "    k_acc.append(knn.score(X_test.reshape(X_test.shape[0], -1), y_test))\n",
    "    print(f\"k = {i}\\t finished.\")"
   ]
  },
  {
   "cell_type": "code",
   "execution_count": null,
   "id": "8feae03d",
   "metadata": {},
   "outputs": [],
   "source": [
    "plt.figure(figsize=(2, 2))\n",
    "fig, ax = plt.subplots()\n",
    "\n",
    "ax.plot([i*10 + 1 for i in range(25)], k_acc, marker=\"o\")\n",
    "ax.set(xlabel=\"k\", ylabel=\"ACC\", xticks=range(1, 250, 40))\n",
    "plt.show()"
   ]
  },
  {
   "cell_type": "markdown",
   "id": "84c385ef",
   "metadata": {},
   "source": [
    "From the figure, the trend is roughly decending. Therefore, we can choose a range of k in [1, 21]"
   ]
  },
  {
   "cell_type": "code",
   "execution_count": null,
   "id": "aa801bfb",
   "metadata": {},
   "outputs": [],
   "source": [
    "# Running in arroung 140s\n",
    "\n",
    "k_value = [i for i in range(1,21)]\n",
    "k_acc = []\n",
    "\n",
    "for i in k_value:\n",
    "    knn = KNeighborsClassifier(n_neighbors=i)\n",
    "    knn.fit(X_train_full.reshape(X_train_full.shape[0], -1), y_train_full)\n",
    "    k_acc.append(knn.score(X_test.reshape(X_test.shape[0], -1), y_test))\n",
    "    print(f\"k = {i}\\t finished.\")"
   ]
  },
  {
   "cell_type": "code",
   "execution_count": null,
   "id": "4272973c",
   "metadata": {},
   "outputs": [],
   "source": [
    "plt.figure(figsize=(2, 2))\n",
    "fig, ax = plt.subplots()\n",
    "\n",
    "ax.plot(k_value, k_acc, marker=\"o\")\n",
    "ax.set(xlabel=\"k\", ylabel=\"ACC\", xticks=k_value)\n",
    "plt.show()"
   ]
  },
  {
   "cell_type": "markdown",
   "id": "089faa21",
   "metadata": {},
   "source": [
    "From the figure above, we chose k = [3, 5, 9]. For p, we chose p [1, 2], it represents manhattan_distance and euclidean_distance respectively. We also consider the weight (uniform, distance) each point contribute to."
   ]
  },
  {
   "cell_type": "markdown",
   "id": "7aca9e1e",
   "metadata": {},
   "source": [
    "If we use CV with 10 folds, totally we need 3 * 2 * 2 * cv = 120 on 90% training set. Considering the running time, we use standard grid search instead."
   ]
  },
  {
   "cell_type": "code",
   "execution_count": 83,
   "id": "dfadede2",
   "metadata": {},
   "outputs": [
    {
     "name": "stdout",
     "output_type": "stream",
     "text": [
      "There are 6 combinations.\n",
      "Parameter grid:\n",
      "{'n_neighbors': [3, 5, 9], 'weights': ['uniform', 'distance']}\n"
     ]
    }
   ],
   "source": [
    "# Setting parameters\n",
    "param_grid = {\n",
    "    'n_neighbors': [3, 5, 9],\n",
    "    'p': [1, 2],\n",
    "    \"weights\": [\"uniform\", \"distance\"],\n",
    "    }\n",
    "\n",
    "knn_paras = ParameterGrid(param_grid)\n",
    "\n",
    "print(f\"There are {len(list(knn_paras))} combinations.\")\n",
    "print(\"Parameter grid:\\n{}\".format(param_grid))\n",
    "\n",
    "# ----------------------------------------------------------\n",
    "# CV for tuning\n",
    "# Setting the 10 fold stratified cross-validation\n",
    "\n",
    "# cvKFold=StratifiedKFold(n_splits=10, shuffle=True, random_state=0)\n",
    "# grid_search = GridSearchCV(KNeighborsClassifier(), param_grid, cv=cvKFold, return_train_score=True, verbose=3)\n",
    "# grid_search.fit(X_train_full.reshape(60000, -1), y_train_full)"
   ]
  },
  {
   "cell_type": "code",
   "execution_count": 84,
   "id": "d58ecbec",
   "metadata": {},
   "outputs": [
    {
     "name": "stdout",
     "output_type": "stream",
     "text": [
      "1 out of 6 finished.\n",
      "2 out of 6 finished.\n",
      "3 out of 6 finished.\n",
      "4 out of 6 finished.\n",
      "5 out of 6 finished.\n",
      "6 out of 6 finished.\n"
     ]
    }
   ],
   "source": [
    "# Running in around 410s\n",
    "\n",
    "# Tuning KNN paras, 12 combination in total.\n",
    "knn_result = get_result(\n",
    "    KNeighborsClassifier(), \n",
    "    knn_paras, \n",
    "    X_train=X_train.reshape(X_train.shape[0], -1), \n",
    "    X_valid=X_valid.reshape(X_valid.shape[0], -1)\n",
    "    )"
   ]
  },
  {
   "cell_type": "code",
   "execution_count": 85,
   "id": "e925ac14",
   "metadata": {},
   "outputs": [
    {
     "name": "stdout",
     "output_type": "stream",
     "text": [
      "Results for KNN:\n",
      "Best parameters: {'n_neighbors': 3, 'weights': 'distance'}\n",
      "Best validation score: 0.8602\n",
      "Test set score: 0.8530\n"
     ]
    },
    {
     "data": {
      "text/html": [
       "<div>\n",
       "<style scoped>\n",
       "    .dataframe tbody tr th:only-of-type {\n",
       "        vertical-align: middle;\n",
       "    }\n",
       "\n",
       "    .dataframe tbody tr th {\n",
       "        vertical-align: top;\n",
       "    }\n",
       "\n",
       "    .dataframe thead th {\n",
       "        text-align: right;\n",
       "    }\n",
       "</style>\n",
       "<table border=\"1\" class=\"dataframe\">\n",
       "  <thead>\n",
       "    <tr style=\"text-align: right;\">\n",
       "      <th></th>\n",
       "      <th>Score</th>\n",
       "      <th>training_time</th>\n",
       "      <th>validation_time</th>\n",
       "    </tr>\n",
       "  </thead>\n",
       "  <tbody>\n",
       "    <tr>\n",
       "      <th>{'n_neighbors': 3, 'weights': 'uniform'}</th>\n",
       "      <td>0.8583</td>\n",
       "      <td>0.08</td>\n",
       "      <td>3.82</td>\n",
       "    </tr>\n",
       "    <tr>\n",
       "      <th>{'n_neighbors': 3, 'weights': 'distance'}</th>\n",
       "      <td>0.8602</td>\n",
       "      <td>0.05</td>\n",
       "      <td>2.89</td>\n",
       "    </tr>\n",
       "    <tr>\n",
       "      <th>{'n_neighbors': 5, 'weights': 'uniform'}</th>\n",
       "      <td>0.855</td>\n",
       "      <td>0.06</td>\n",
       "      <td>3.11</td>\n",
       "    </tr>\n",
       "    <tr>\n",
       "      <th>{'n_neighbors': 5, 'weights': 'distance'}</th>\n",
       "      <td>0.8577</td>\n",
       "      <td>0.05</td>\n",
       "      <td>2.96</td>\n",
       "    </tr>\n",
       "    <tr>\n",
       "      <th>{'n_neighbors': 9, 'weights': 'uniform'}</th>\n",
       "      <td>0.8512</td>\n",
       "      <td>0.06</td>\n",
       "      <td>3.04</td>\n",
       "    </tr>\n",
       "    <tr>\n",
       "      <th>{'n_neighbors': 9, 'weights': 'distance'}</th>\n",
       "      <td>0.8533</td>\n",
       "      <td>0.05</td>\n",
       "      <td>3.03</td>\n",
       "    </tr>\n",
       "  </tbody>\n",
       "</table>\n",
       "</div>"
      ],
      "text/plain": [
       "                                            Score training_time  \\\n",
       "{'n_neighbors': 3, 'weights': 'uniform'}   0.8583          0.08   \n",
       "{'n_neighbors': 3, 'weights': 'distance'}  0.8602          0.05   \n",
       "{'n_neighbors': 5, 'weights': 'uniform'}    0.855          0.06   \n",
       "{'n_neighbors': 5, 'weights': 'distance'}  0.8577          0.05   \n",
       "{'n_neighbors': 9, 'weights': 'uniform'}   0.8512          0.06   \n",
       "{'n_neighbors': 9, 'weights': 'distance'}  0.8533          0.05   \n",
       "\n",
       "                                          validation_time  \n",
       "{'n_neighbors': 3, 'weights': 'uniform'}             3.82  \n",
       "{'n_neighbors': 3, 'weights': 'distance'}            2.89  \n",
       "{'n_neighbors': 5, 'weights': 'uniform'}             3.11  \n",
       "{'n_neighbors': 5, 'weights': 'distance'}            2.96  \n",
       "{'n_neighbors': 9, 'weights': 'uniform'}             3.04  \n",
       "{'n_neighbors': 9, 'weights': 'distance'}            3.03  "
      ]
     },
     "metadata": {},
     "output_type": "display_data"
    }
   ],
   "source": [
    "# Running in around 110s\n",
    "\n",
    "show_results(\"KNN\", knn_result, X_test=X_test.reshape(X_test.shape[0], -1))"
   ]
  },
  {
   "cell_type": "markdown",
   "metadata": {},
   "source": [
    "### 3.2 Fully connected neural network"
   ]
  },
  {
   "cell_type": "markdown",
   "id": "bd231b38",
   "metadata": {},
   "source": [
    "From section 2.2, we settled the numbers of neurons (100, 20) in hidden layers. Although the number of hidden layers as well as number of neurons are also hyperparameter, to avoid a great running time due to a number of combination of paras, we design the structure first and tune the other paras in this section."
   ]
  },
  {
   "cell_type": "code",
   "execution_count": 86,
   "id": "ce23462d",
   "metadata": {},
   "outputs": [
    {
     "name": "stdout",
     "output_type": "stream",
     "text": [
      "Epoch 1/2\n"
     ]
    },
    {
     "name": "stderr",
     "output_type": "stream",
     "text": [
      "c:\\Users\\1\\PycharmProjects\\5318\\venv\\lib\\site-packages\\keras\\optimizers\\optimizer_v2\\gradient_descent.py:111: UserWarning: The `lr` argument is deprecated, use `learning_rate` instead.\n",
      "  super().__init__(name, **kwargs)\n"
     ]
    },
    {
     "name": "stdout",
     "output_type": "stream",
     "text": [
      "1688/1688 [==============================] - 3s 1ms/step - loss: 0.5820 - accuracy: 0.7892\n",
      "Epoch 2/2\n",
      "1688/1688 [==============================] - 2s 1ms/step - loss: 0.4149 - accuracy: 0.8478\n",
      "188/188 [==============================] - 0s 946us/step\n",
      "1 out of 3 finished.\n",
      "Epoch 1/2\n"
     ]
    },
    {
     "name": "stderr",
     "output_type": "stream",
     "text": [
      "c:\\Users\\1\\PycharmProjects\\5318\\venv\\lib\\site-packages\\keras\\optimizers\\optimizer_v2\\gradient_descent.py:111: UserWarning: The `lr` argument is deprecated, use `learning_rate` instead.\n",
      "  super().__init__(name, **kwargs)\n"
     ]
    },
    {
     "name": "stdout",
     "output_type": "stream",
     "text": [
      "1688/1688 [==============================] - 2s 1ms/step - loss: 0.7850 - accuracy: 0.7347\n",
      "Epoch 2/2\n",
      "1688/1688 [==============================] - 2s 1ms/step - loss: 0.5156 - accuracy: 0.8241\n",
      "188/188 [==============================] - 0s 923us/step\n",
      "2 out of 3 finished.\n",
      "Epoch 1/2\n"
     ]
    },
    {
     "name": "stderr",
     "output_type": "stream",
     "text": [
      "c:\\Users\\1\\PycharmProjects\\5318\\venv\\lib\\site-packages\\keras\\optimizers\\optimizer_v2\\gradient_descent.py:111: UserWarning: The `lr` argument is deprecated, use `learning_rate` instead.\n",
      "  super().__init__(name, **kwargs)\n"
     ]
    },
    {
     "name": "stdout",
     "output_type": "stream",
     "text": [
      "1688/1688 [==============================] - 2s 1ms/step - loss: 1.7205 - accuracy: 0.4194\n",
      "Epoch 2/2\n",
      "1688/1688 [==============================] - 2s 1ms/step - loss: 1.0008 - accuracy: 0.6948\n",
      "188/188 [==============================] - 0s 923us/step\n",
      "3 out of 3 finished.\n"
     ]
    }
   ],
   "source": [
    "def build_mlp(activation_function=\"relu\"):\n",
    "    \"\"\"Build a Keras MLP for 10 class classification with desired parameters.\"\"\"\n",
    "    \n",
    "    model = keras.models.Sequential()\n",
    "    \n",
    "    # Add the input layer\n",
    "    model.add(keras.layers.Flatten(input_shape=IMAGE_SIZE))\n",
    "    \n",
    "    # Add the hidden layers with activation function\n",
    "    model.add(keras.layers.Dense(100, activation=activation_function))\n",
    "    model.add(keras.layers.Dense(20, activation=activation_function))\n",
    "        \n",
    "    # Add the output layer for 10 class classification\n",
    "    model.add(keras.layers.Dense(10, activation=\"softmax\"))\n",
    "    \n",
    "    return model\n",
    "\n",
    "# Create a KerasClassifier object which works with sklearn grid searches\n",
    "# We need to pass default values of arguments in build_mlp if we wish to tune them\n",
    "keras_classifier = KerasClassifier(build_mlp,\n",
    "                                   activation_function=\"relu\",\n",
    "                                   loss=\"sparse_categorical_crossentropy\",\n",
    "                                   optimizer=\"sgd\",\n",
    "                                   optimizer__lr=0.01,\n",
    "                                   metrics=[\"accuracy\"]\n",
    "                                  )\n",
    "\n",
    "param_grid = {\n",
    "    \"optimizer__lr\": [0.1, 0.01, 0.001],\n",
    "    # \"optimizer__lr\": [0.1],\n",
    "    # \"activation_function\": [\"relu\", \"sigmoid\", \"tanh\", None],\n",
    "    \"activation_function\": [\"relu\"]\n",
    "}\n",
    "\n",
    "mpl_paras = ParameterGrid(param_grid)\n",
    "\n",
    "\n",
    "mlp_result = get_result(keras_classifier, mpl_paras, epochs=2)"
   ]
  },
  {
   "cell_type": "code",
   "execution_count": 87,
   "id": "c82c50e7",
   "metadata": {},
   "outputs": [
    {
     "name": "stdout",
     "output_type": "stream",
     "text": [
      "Results for MLP:\n",
      "Best parameters: {'activation_function': 'relu', 'optimizer__lr': 0.1}\n",
      "Best validation score: 0.8018\n",
      "313/313 [==============================] - 0s 982us/step\n",
      "Test set score: 0.7899\n"
     ]
    },
    {
     "data": {
      "text/html": [
       "<div>\n",
       "<style scoped>\n",
       "    .dataframe tbody tr th:only-of-type {\n",
       "        vertical-align: middle;\n",
       "    }\n",
       "\n",
       "    .dataframe tbody tr th {\n",
       "        vertical-align: top;\n",
       "    }\n",
       "\n",
       "    .dataframe thead th {\n",
       "        text-align: right;\n",
       "    }\n",
       "</style>\n",
       "<table border=\"1\" class=\"dataframe\">\n",
       "  <thead>\n",
       "    <tr style=\"text-align: right;\">\n",
       "      <th></th>\n",
       "      <th>Score</th>\n",
       "      <th>training_time</th>\n",
       "      <th>validation_time</th>\n",
       "    </tr>\n",
       "  </thead>\n",
       "  <tbody>\n",
       "    <tr>\n",
       "      <th>{'activation_function': 'relu', 'optimizer__lr': 0.1}</th>\n",
       "      <td>0.8018</td>\n",
       "      <td>4.88</td>\n",
       "      <td>0.33</td>\n",
       "    </tr>\n",
       "    <tr>\n",
       "      <th>{'activation_function': 'relu', 'optimizer__lr': 0.01}</th>\n",
       "      <td>0.7863</td>\n",
       "      <td>4.63</td>\n",
       "      <td>0.33</td>\n",
       "    </tr>\n",
       "    <tr>\n",
       "      <th>{'activation_function': 'relu', 'optimizer__lr': 0.001}</th>\n",
       "      <td>0.7155</td>\n",
       "      <td>4.67</td>\n",
       "      <td>0.31</td>\n",
       "    </tr>\n",
       "  </tbody>\n",
       "</table>\n",
       "</div>"
      ],
      "text/plain": [
       "                                                     Score training_time  \\\n",
       "{'activation_function': 'relu', 'optimizer__lr'...  0.8018          4.88   \n",
       "{'activation_function': 'relu', 'optimizer__lr'...  0.7863          4.63   \n",
       "{'activation_function': 'relu', 'optimizer__lr'...  0.7155          4.67   \n",
       "\n",
       "                                                   validation_time  \n",
       "{'activation_function': 'relu', 'optimizer__lr'...            0.33  \n",
       "{'activation_function': 'relu', 'optimizer__lr'...            0.33  \n",
       "{'activation_function': 'relu', 'optimizer__lr'...            0.31  "
      ]
     },
     "metadata": {},
     "output_type": "display_data"
    }
   ],
   "source": [
    "# mlp_result\n",
    "show_results(\"MLP\", mlp_result)"
   ]
  },
  {
   "cell_type": "markdown",
   "metadata": {},
   "source": [
    "### Convolutional neural network"
   ]
  },
  {
   "cell_type": "markdown",
   "metadata": {},
   "source": [
    "## 4. Final models"
   ]
  },
  {
   "cell_type": "markdown",
   "metadata": {},
   "source": [
    "### 4.1 K-nearest neighbors"
   ]
  },
  {
   "cell_type": "markdown",
   "id": "5ba1bd8d",
   "metadata": {},
   "source": [
    "Best paras for K-nearest neighbors is:  \n",
    "'n_neighbors'= 3, 'p'= 1, 'weights'= 'distance'."
   ]
  },
  {
   "cell_type": "code",
   "execution_count": null,
   "id": "aa9ad490",
   "metadata": {},
   "outputs": [],
   "source": [
    "# Set the best paras\n",
    "knn_best_paras = dict({'n_neighbors': 3, 'p': 1, 'weights': 'distance'})\n",
    "\n",
    "knn = KNeighborsClassifier(**knn_best_paras)\n",
    "knn.fit(X_train_full.reshape(X_train_full.shape[0], -1), y_train_full)"
   ]
  },
  {
   "cell_type": "code",
   "execution_count": null,
   "id": "2f9cda9e",
   "metadata": {},
   "outputs": [],
   "source": [
    "# Running in around 120s\n",
    "\n",
    "# Performance on test set.\n",
    "print(f\"KNN score on the test set: {knn.score(X_test.reshape(X_test.shape[0], -1), y_test):.4f}\")"
   ]
  },
  {
   "cell_type": "markdown",
   "metadata": {},
   "source": [
    "### Fully connected neural network"
   ]
  },
  {
   "cell_type": "markdown",
   "metadata": {},
   "source": [
    "### Convolutional neural network"
   ]
  }
 ],
 "metadata": {
  "kernelspec": {
   "display_name": "Python 3.9.5 ('venv')",
   "language": "python",
   "name": "python3"
  },
  "language_info": {
   "codemirror_mode": {
    "name": "ipython",
    "version": 3
   },
   "file_extension": ".py",
   "mimetype": "text/x-python",
   "name": "python",
   "nbconvert_exporter": "python",
   "pygments_lexer": "ipython3",
   "version": "3.9.5"
  },
  "vscode": {
   "interpreter": {
    "hash": "0a8c4580c33f1a0ec11d1ec1ec999c7eec26eef61726f4404092dec9f099378c"
   }
  }
 },
 "nbformat": 4,
 "nbformat_minor": 5
}
